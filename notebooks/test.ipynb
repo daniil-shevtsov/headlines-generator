{
 "cells": [
  {
   "cell_type": "code",
   "execution_count": 1,
   "metadata": {
    "pycharm": {
     "is_executing": false,
     "name": "#%%\n"
    }
   },
   "outputs": [
    {
     "name": "stderr",
     "text": [
      "c:\\program files\\python\\python37\\lib\\site-packages\\ipykernel_launcher.py:6: FutureWarning: The pandas.np module is deprecated and will be removed from pandas in a future version. Import numpy directly instead\n  \n"
     ],
     "output_type": "stream"
    }
   ],
   "source": [
    "import string\n",
    "import nltk\n",
    "from bert_score import score\n",
    "from ipython_genutils.py3compat import xrange\n",
    "from nltk.translate.bleu_score import SmoothingFunction\n",
    "from pandas import np\n",
    "from tensorflow.python.keras.losses import categorical_crossentropy\n",
    "import generator\n",
    "from generator.main import read_data, format_data, generate_text, create_idx_to_words,  create_model, \\\n",
    "    read_model_weights, build_model\n",
    "\n",
    "from generator.main import get_parameters\n",
    "from nlgeval import compute_individual_metrics"
   ]
  },
  {
   "cell_type": "code",
   "execution_count": 2,
   "metadata": {
    "pycharm": {
     "is_executing": false,
     "name": "#%%\n"
    }
   },
   "outputs": [
    {
     "data": {
      "text/plain": "Parameters(model_name='model', nrows=200000, max_features=3500, max_len=20, epochs=3, start='÷', end='■')"
     },
     "metadata": {},
     "output_type": "execute_result",
     "execution_count": 2
    }
   ],
   "source": [
    "parameters = get_parameters()\n",
    "parameters"
   ]
  },
  {
   "cell_type": "markdown",
   "metadata": {},
   "source": [
    "Data Processing"
   ]
  },
  {
   "cell_type": "code",
   "execution_count": 3,
   "metadata": {
    "pycharm": {
     "is_executing": false,
     "name": "#%%\n"
    }
   },
   "outputs": [
    {
     "data": {
      "text/plain": "                                                 headline\n0       aba decides against community broadcasting lic...\n1          act fire witnesses must be aware of defamation\n2          a g calls for infrastructure protection summit\n3                air nz staff in aust strike for pay rise\n4           air nz strike to affect australian travellers\n...                                                   ...\n199995                            glory on top of knights\n199996            gm canola contamination report released\n199997    governments work towards charlestown masterplan\n199998    govt accused of using bullying tactics to force\n199999    govt bypasses council and approves denmark wind\n\n[200000 rows x 1 columns]",
      "text/html": "<div>\n<style scoped>\n    .dataframe tbody tr th:only-of-type {\n        vertical-align: middle;\n    }\n\n    .dataframe tbody tr th {\n        vertical-align: top;\n    }\n\n    .dataframe thead th {\n        text-align: right;\n    }\n</style>\n<table border=\"1\" class=\"dataframe\">\n  <thead>\n    <tr style=\"text-align: right;\">\n      <th></th>\n      <th>headline</th>\n    </tr>\n  </thead>\n  <tbody>\n    <tr>\n      <th>0</th>\n      <td>aba decides against community broadcasting lic...</td>\n    </tr>\n    <tr>\n      <th>1</th>\n      <td>act fire witnesses must be aware of defamation</td>\n    </tr>\n    <tr>\n      <th>2</th>\n      <td>a g calls for infrastructure protection summit</td>\n    </tr>\n    <tr>\n      <th>3</th>\n      <td>air nz staff in aust strike for pay rise</td>\n    </tr>\n    <tr>\n      <th>4</th>\n      <td>air nz strike to affect australian travellers</td>\n    </tr>\n    <tr>\n      <th>...</th>\n      <td>...</td>\n    </tr>\n    <tr>\n      <th>199995</th>\n      <td>glory on top of knights</td>\n    </tr>\n    <tr>\n      <th>199996</th>\n      <td>gm canola contamination report released</td>\n    </tr>\n    <tr>\n      <th>199997</th>\n      <td>governments work towards charlestown masterplan</td>\n    </tr>\n    <tr>\n      <th>199998</th>\n      <td>govt accused of using bullying tactics to force</td>\n    </tr>\n    <tr>\n      <th>199999</th>\n      <td>govt bypasses council and approves denmark wind</td>\n    </tr>\n  </tbody>\n</table>\n<p>200000 rows × 1 columns</p>\n</div>"
     },
     "metadata": {},
     "output_type": "execute_result",
     "execution_count": 3
    }
   ],
   "source": [
    "raw_data = read_data(nrows=parameters.nrows)\n",
    "raw_data\n"
   ]
  },
  {
   "cell_type": "code",
   "execution_count": 4,
   "metadata": {
    "pycharm": {
     "is_executing": false,
     "name": "#%%\n"
    }
   },
   "outputs": [
    {
     "data": {
      "text/plain": "(array([[   0,    0,    0, ...,    0,    1,   37],\n        [   0,    0,    0, ...,    1,   37,  187],\n        [   0,    0,    0, ...,   37,  187, 1250],\n        ...,\n        [   0,    0,    0, ...,   10,   18,   36],\n        [   0,    0,    0, ...,   18,   36, 1049],\n        [   0,    0,    0, ...,   36, 1049,  697]]),\n array([[0., 0., 0., ..., 0., 0., 0.],\n        [0., 0., 0., ..., 0., 0., 0.],\n        [0., 0., 1., ..., 0., 0., 0.],\n        ...,\n        [0., 0., 0., ..., 0., 0., 0.],\n        [0., 0., 0., ..., 0., 0., 0.],\n        [0., 0., 1., ..., 0., 0., 0.]], dtype=float32),\n <keras_preprocessing.text.Tokenizer at 0x16d61fd0f88>,\n 0         ÷ aba decides against community broadcasting l...\n 1         ÷ act fire witnesses must be aware of defamati...\n 2         ÷ a g calls for infrastructure protection summ...\n 3              ÷ air nz staff in aust strike for pay rise ■\n 4         ÷ air nz strike to affect australian travellers ■\n                                 ...                        \n 199995                          ÷ glory on top of knights ■\n 199996          ÷ gm canola contamination report released ■\n 199997    ÷ governments work towards charlestown masterp...\n 199998    ÷ govt accused of using bullying tactics to fo...\n 199999    ÷ govt bypasses council and approves denmark w...\n Name: headline, Length: 200000, dtype: object)"
     },
     "metadata": {},
     "output_type": "execute_result",
     "execution_count": 4
    }
   ],
   "source": [
    "X, Y, tokenizer, text = format_data(raw_data, parameters.max_features, parameters.max_len, parameters.start, parameters.end)\n",
    "X, Y, tokenizer, text"
   ]
  },
  {
   "cell_type": "code",
   "execution_count": 5,
   "metadata": {
    "pycharm": {
     "is_executing": false,
     "name": "#%%\n"
    }
   },
   "outputs": [
    {
     "data": {
      "text/plain": "(187, 1, 2)"
     },
     "metadata": {},
     "output_type": "execute_result",
     "execution_count": 5
    }
   ],
   "source": [
    "tokenizer.word_index['community'], tokenizer.word_index[parameters.start], tokenizer.word_index[parameters.end]"
   ]
  },
  {
   "cell_type": "markdown",
   "metadata": {},
   "source": [
    "Model Building"
   ]
  },
  {
   "cell_type": "code",
   "execution_count": 6,
   "metadata": {
    "pycharm": {
     "is_executing": false,
     "name": "#%%\n"
    }
   },
   "outputs": [],
   "source": [
    "#build_model(parameters.model_name, parameters.epochs, parameters.max_features, X, Y)\n",
    "model = create_model(parameters.max_features)\n",
    "read_model_weights(parameters.model_name, model)\n",
    "#model.evaluate(X,Y)"
   ]
  },
  {
   "cell_type": "code",
   "execution_count": 6,
   "metadata": {
    "pycharm": {
     "is_executing": false,
     "name": "#%%\n"
    }
   },
   "outputs": [],
   "source": []
  },
  {
   "cell_type": "markdown",
   "metadata": {},
   "source": [
    "Text Generation"
   ]
  },
  {
   "cell_type": "code",
   "execution_count": 7,
   "metadata": {
    "pycharm": {
     "is_executing": false,
     "name": "#%%\n"
    }
   },
   "outputs": [],
   "source": [
    "idx_to_words= create_idx_to_words(tokenizer)\n",
    "\n"
   ]
  },
  {
   "cell_type": "markdown",
   "metadata": {},
   "source": [
    "Accuracy Calculation"
   ]
  },
  {
   "cell_type": "code",
   "execution_count": 8,
   "metadata": {
    "pycharm": {
     "is_executing": false,
     "name": "#%%\n"
    }
   },
   "outputs": [
    {
     "data": {
      "text/plain": "                                                 headline\n0       aba decides against community broadcasting lic...\n1          act fire witnesses must be aware of defamation\n2          a g calls for infrastructure protection summit\n3                air nz staff in aust strike for pay rise\n4           air nz strike to affect australian travellers\n...                                                   ...\n199995                            glory on top of knights\n199996            gm canola contamination report released\n199997    governments work towards charlestown masterplan\n199998    govt accused of using bullying tactics to force\n199999    govt bypasses council and approves denmark wind\n\n[200000 rows x 1 columns]",
      "text/html": "<div>\n<style scoped>\n    .dataframe tbody tr th:only-of-type {\n        vertical-align: middle;\n    }\n\n    .dataframe tbody tr th {\n        vertical-align: top;\n    }\n\n    .dataframe thead th {\n        text-align: right;\n    }\n</style>\n<table border=\"1\" class=\"dataframe\">\n  <thead>\n    <tr style=\"text-align: right;\">\n      <th></th>\n      <th>headline</th>\n    </tr>\n  </thead>\n  <tbody>\n    <tr>\n      <th>0</th>\n      <td>aba decides against community broadcasting lic...</td>\n    </tr>\n    <tr>\n      <th>1</th>\n      <td>act fire witnesses must be aware of defamation</td>\n    </tr>\n    <tr>\n      <th>2</th>\n      <td>a g calls for infrastructure protection summit</td>\n    </tr>\n    <tr>\n      <th>3</th>\n      <td>air nz staff in aust strike for pay rise</td>\n    </tr>\n    <tr>\n      <th>4</th>\n      <td>air nz strike to affect australian travellers</td>\n    </tr>\n    <tr>\n      <th>...</th>\n      <td>...</td>\n    </tr>\n    <tr>\n      <th>199995</th>\n      <td>glory on top of knights</td>\n    </tr>\n    <tr>\n      <th>199996</th>\n      <td>gm canola contamination report released</td>\n    </tr>\n    <tr>\n      <th>199997</th>\n      <td>governments work towards charlestown masterplan</td>\n    </tr>\n    <tr>\n      <th>199998</th>\n      <td>govt accused of using bullying tactics to force</td>\n    </tr>\n    <tr>\n      <th>199999</th>\n      <td>govt bypasses council and approves denmark wind</td>\n    </tr>\n  </tbody>\n</table>\n<p>200000 rows × 1 columns</p>\n</div>"
     },
     "metadata": {},
     "output_type": "execute_result",
     "execution_count": 8
    }
   ],
   "source": [
    "raw_data"
   ]
  },
  {
   "cell_type": "code",
   "execution_count": 9,
   "metadata": {
    "pycharm": {
     "is_executing": false,
     "name": "#%%\n"
    }
   },
   "outputs": [],
   "source": [
    "#lol = raw_data.values.toList()\n",
    "reference_data = [headline for headline in raw_data['headline']]\n",
    "split_reference_data = [reference.split() for reference in reference_data]\n",
    "#reference_data"
   ]
  },
  {
   "cell_type": "code",
   "execution_count": 36,
   "metadata": {
    "pycharm": {
     "is_executing": false,
     "name": "#%%\n"
    }
   },
   "outputs": [
    {
     "data": {
      "text/plain": "'meets with injury'"
     },
     "metadata": {},
     "output_type": "execute_result",
     "execution_count": 36
    }
   ],
   "source": [
    "text = generate_text(parameters.start, model, idx_to_words, tokenizer, parameters.max_len, parameters.end, temp=0.75)\n",
    "text "
   ]
  },
  {
   "cell_type": "code",
   "execution_count": 48,
   "metadata": {
    "pycharm": {
     "is_executing": false,
     "name": "#%%\n"
    }
   },
   "outputs": [
    {
     "data": {
      "text/plain": "1.215393243201835"
     },
     "metadata": {},
     "output_type": "execute_result",
     "execution_count": 48
    }
   ],
   "source": [
    "cc = SmoothingFunction()\n",
    "bleu1 = nltk.translate.bleu_score.sentence_bleu(split_reference_data, text.split(),weights=(9.05, 0.05, 0.05, 0.05), smoothing_function=cc.method4)\n",
    "bleu1"
   ]
  },
  {
   "cell_type": "code",
   "execution_count": 32,
   "outputs": [
    {
     "data": {
      "text/plain": "[0.6666666666666666, 0.5773502691896257, 1.2940044937315731, 2.015133275197628]"
     },
     "metadata": {},
     "output_type": "execute_result",
     "execution_count": 32
    }
   ],
   "source": [
    "text = \"top kek cheburek\".split()\n",
    "reference = [\n",
    "    \"lol kek cheburek\".split(),\n",
    "    \"lol kek uzbek\".split(),\n",
    "]\n",
    "cc = SmoothingFunction()\n",
    "bleu1 = nltk.translate.bleu_score.sentence_bleu(reference, text,weights=(1.0, 0.0, 0.0, 0.0), smoothing_function=cc.method4)\n",
    "bleu2 = nltk.translate.bleu_score.sentence_bleu(reference, text,weights=(0.5, 0.5, 0, 0), smoothing_function=cc.method4)\n",
    "bleu3 = nltk.translate.bleu_score.sentence_bleu(reference, text,weights=(0.33, 0.33, 0.33, 0), smoothing_function=cc.method4)\n",
    "bleu4 = nltk.translate.bleu_score.sentence_bleu(reference, text,weights=(0.25, 0.25, 0.25, 0.25), smoothing_function=cc.method4)\n",
    "[bleu1, bleu2, bleu3, bleu4]"
   ],
   "metadata": {
    "collapsed": false,
    "pycharm": {
     "name": "#%%\n",
     "is_executing": false
    }
   }
  },
  {
   "cell_type": "code",
   "execution_count": 17,
   "metadata": {
    "pycharm": {
     "is_executing": false,
     "name": "#%%\n"
    }
   },
   "outputs": [
    {
     "data": {
      "text/plain": "['offers new and election', 'hardie bid continues']"
     },
     "metadata": {},
     "output_type": "execute_result",
     "execution_count": 17
    }
   ],
   "source": [
    "def generate_text_for_iteration(i, n):\n",
    "    print(f'{i+1} / {n}', end='\\r')\n",
    "    generate_text(parameters.start, model, idx_to_words, tokenizer, parameters.max_len, parameters.end, temp=0.75)\n",
    "    \n",
    "#generated = [ generate_text_for_iteration(i, 10) for i in range(10)]\n",
    "generated = [ generate_text(parameters.start, model, idx_to_words, tokenizer, parameters.max_len, parameters.end, temp=0.75) for i in range(10)]\n",
    "generated[:2]"
   ]
  },
  {
   "cell_type": "code",
   "execution_count": 18,
   "outputs": [
    {
     "name": "stderr",
     "text": [
      "c:\\program files\\python\\python37\\lib\\site-packages\\nltk\\translate\\bleu_score.py:516: UserWarning: \nThe hypothesis contains 0 counts of 3-gram overlaps.\nTherefore the BLEU score evaluates to 0, independently of\nhow many N-gram overlaps of lower order it contains.\nConsider using lower n-gram order or use SmoothingFunction()\n  warnings.warn(_msg)\nc:\\program files\\python\\python37\\lib\\site-packages\\nltk\\translate\\bleu_score.py:516: UserWarning: \nThe hypothesis contains 0 counts of 4-gram overlaps.\nTherefore the BLEU score evaluates to 0, independently of\nhow many N-gram overlaps of lower order it contains.\nConsider using lower n-gram order or use SmoothingFunction()\n  warnings.warn(_msg)\n"
     ],
     "output_type": "stream"
    },
    {
     "data": {
      "text/plain": "[1.3478743256634661e-154, 1.254338396921439e-154]"
     },
     "metadata": {},
     "output_type": "execute_result",
     "execution_count": 18
    }
   ],
   "source": [
    "kek = []\n",
    "for lol in generated[:2]:\n",
    "    cheburek = nltk.translate.bleu_score.sentence_bleu(split_reference_data, lol.split())\n",
    "    kek.append(cheburek)\n",
    "kek"
   ],
   "metadata": {
    "collapsed": false,
    "pycharm": {
     "name": "#%%\n",
     "is_executing": false
    }
   }
  },
  {
   "cell_type": "code",
   "execution_count": 13,
   "metadata": {
    "pycharm": {
     "is_executing": false,
     "name": "#%%\n"
    }
   },
   "outputs": [],
   "source": [
    "def perplexity(y_true, y_pred):\n",
    "    cross_entropy = categorical_crossentropy(y_true, y_pred)\n",
    "    calculated_perplexity = np.power(2.0, cross_entropy)\n",
    "    return calculated_perplexity"
   ]
  },
  {
   "cell_type": "code",
   "execution_count": 14,
   "metadata": {
    "pycharm": {
     "is_executing": false
    }
   },
   "outputs": [],
   "source": [
    "# metrics_dict = compute_individual_metrics(reference_data, generated[0])\n",
    "# metrics_dict"
   ]
  }
 ],
 "metadata": {
  "kernelspec": {
   "display_name": "Python 3",
   "language": "python",
   "name": "python3"
  },
  "language_info": {
   "codemirror_mode": {
    "name": "ipython",
    "version": 3
   },
   "file_extension": ".py",
   "mimetype": "text/x-python",
   "name": "python",
   "nbconvert_exporter": "python",
   "pygments_lexer": "ipython3",
   "version": "3.7.4"
  },
  "pycharm": {
   "stem_cell": {
    "cell_type": "raw",
    "source": [],
    "metadata": {
     "collapsed": false
    }
   }
  }
 },
 "nbformat": 4,
 "nbformat_minor": 1
}