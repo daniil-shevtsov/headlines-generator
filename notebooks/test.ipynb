{
 "cells": [
  {
   "cell_type": "code",
   "execution_count": 27,
   "metadata": {
    "collapsed": true,
    "pycharm": {
     "is_executing": false,
     "name": "#%%\n"
    }
   },
   "outputs": [],
   "source": [
    "import string\n",
    "import nltk\n",
    "from nltk.translate.bleu_score import SmoothingFunction\n",
    "import generator\n",
    "from generator.main import read_data, format_data, generate_text, create_idx_to_words,  create_model, \\\n",
    "    read_model_weights\n",
    "\n",
    "from generator.main import get_parameters"
   ]
  },
  {
   "cell_type": "code",
   "execution_count": 2,
   "outputs": [
    {
     "data": {
      "text/plain": "Parameters(model_name='model', nrows=200000, max_features=3500, max_len=20, epochs=3, start='÷', end='■')"
     },
     "metadata": {},
     "output_type": "execute_result",
     "execution_count": 2
    }
   ],
   "source": [
    "parameters = get_parameters()\n",
    "parameters"
   ],
   "metadata": {
    "collapsed": false,
    "pycharm": {
     "name": "#%%\n",
     "is_executing": false
    }
   }
  },
  {
   "cell_type": "markdown",
   "source": [
    "Data Processing"
   ],
   "metadata": {
    "collapsed": false
   }
  },
  {
   "cell_type": "code",
   "execution_count": 3,
   "outputs": [
    {
     "data": {
      "text/plain": "                                                 headline\n0       aba decides against community broadcasting lic...\n1          act fire witnesses must be aware of defamation\n2          a g calls for infrastructure protection summit\n3                air nz staff in aust strike for pay rise\n4           air nz strike to affect australian travellers\n...                                                   ...\n199995                            glory on top of knights\n199996            gm canola contamination report released\n199997    governments work towards charlestown masterplan\n199998    govt accused of using bullying tactics to force\n199999    govt bypasses council and approves denmark wind\n\n[200000 rows x 1 columns]",
      "text/html": "<div>\n<style scoped>\n    .dataframe tbody tr th:only-of-type {\n        vertical-align: middle;\n    }\n\n    .dataframe tbody tr th {\n        vertical-align: top;\n    }\n\n    .dataframe thead th {\n        text-align: right;\n    }\n</style>\n<table border=\"1\" class=\"dataframe\">\n  <thead>\n    <tr style=\"text-align: right;\">\n      <th></th>\n      <th>headline</th>\n    </tr>\n  </thead>\n  <tbody>\n    <tr>\n      <th>0</th>\n      <td>aba decides against community broadcasting lic...</td>\n    </tr>\n    <tr>\n      <th>1</th>\n      <td>act fire witnesses must be aware of defamation</td>\n    </tr>\n    <tr>\n      <th>2</th>\n      <td>a g calls for infrastructure protection summit</td>\n    </tr>\n    <tr>\n      <th>3</th>\n      <td>air nz staff in aust strike for pay rise</td>\n    </tr>\n    <tr>\n      <th>4</th>\n      <td>air nz strike to affect australian travellers</td>\n    </tr>\n    <tr>\n      <th>...</th>\n      <td>...</td>\n    </tr>\n    <tr>\n      <th>199995</th>\n      <td>glory on top of knights</td>\n    </tr>\n    <tr>\n      <th>199996</th>\n      <td>gm canola contamination report released</td>\n    </tr>\n    <tr>\n      <th>199997</th>\n      <td>governments work towards charlestown masterplan</td>\n    </tr>\n    <tr>\n      <th>199998</th>\n      <td>govt accused of using bullying tactics to force</td>\n    </tr>\n    <tr>\n      <th>199999</th>\n      <td>govt bypasses council and approves denmark wind</td>\n    </tr>\n  </tbody>\n</table>\n<p>200000 rows × 1 columns</p>\n</div>"
     },
     "metadata": {},
     "output_type": "execute_result",
     "execution_count": 3
    }
   ],
   "source": [
    "raw_data = read_data(nrows=parameters.nrows)\n",
    "raw_data\n"
   ],
   "metadata": {
    "collapsed": false,
    "pycharm": {
     "name": "#%%\n",
     "is_executing": false
    }
   }
  },
  {
   "cell_type": "code",
   "execution_count": 4,
   "outputs": [
    {
     "data": {
      "text/plain": "(array([[   0,    0,    0, ...,    0,    1,   37],\n        [   0,    0,    0, ...,    1,   37,  187],\n        [   0,    0,    0, ...,   37,  187, 1250],\n        ...,\n        [   0,    0,    0, ...,   10,   18,   36],\n        [   0,    0,    0, ...,   18,   36, 1049],\n        [   0,    0,    0, ...,   36, 1049,  697]]),\n array([[0., 0., 0., ..., 0., 0., 0.],\n        [0., 0., 0., ..., 0., 0., 0.],\n        [0., 0., 1., ..., 0., 0., 0.],\n        ...,\n        [0., 0., 0., ..., 0., 0., 0.],\n        [0., 0., 0., ..., 0., 0., 0.],\n        [0., 0., 1., ..., 0., 0., 0.]], dtype=float32),\n <keras_preprocessing.text.Tokenizer at 0x188ceb3bf88>,\n 0         ÷ aba decides against community broadcasting l...\n 1         ÷ act fire witnesses must be aware of defamati...\n 2         ÷ a g calls for infrastructure protection summ...\n 3              ÷ air nz staff in aust strike for pay rise ■\n 4         ÷ air nz strike to affect australian travellers ■\n                                 ...                        \n 199995                          ÷ glory on top of knights ■\n 199996          ÷ gm canola contamination report released ■\n 199997    ÷ governments work towards charlestown masterp...\n 199998    ÷ govt accused of using bullying tactics to fo...\n 199999    ÷ govt bypasses council and approves denmark w...\n Name: headline, Length: 200000, dtype: object)"
     },
     "metadata": {},
     "output_type": "execute_result",
     "execution_count": 4
    }
   ],
   "source": [
    "X, Y, tokenizer, text = format_data(raw_data, parameters.max_features, parameters.max_len, parameters.start, parameters.end)\n",
    "X, Y, tokenizer, text"
   ],
   "metadata": {
    "collapsed": false,
    "pycharm": {
     "name": "#%%\n",
     "is_executing": false
    }
   }
  },
  {
   "cell_type": "code",
   "execution_count": 5,
   "outputs": [
    {
     "data": {
      "text/plain": "(187, 1, 2)"
     },
     "metadata": {},
     "output_type": "execute_result",
     "execution_count": 5
    }
   ],
   "source": [
    "tokenizer.word_index['community'], tokenizer.word_index[parameters.start], tokenizer.word_index[parameters.end]"
   ],
   "metadata": {
    "collapsed": false,
    "pycharm": {
     "name": "#%%\n",
     "is_executing": false
    }
   }
  },
  {
   "cell_type": "markdown",
   "source": [
    "Model Building"
   ],
   "metadata": {
    "collapsed": false
   }
  },
  {
   "cell_type": "code",
   "execution_count": 6,
   "outputs": [],
   "source": [
    "#build_model(parameters.model_name, parameters.epochs, parameters.max_features, X, Y)\n",
    "model = create_model(parameters.max_features)\n",
    "read_model_weights(parameters.model_name, model)\n",
    "#model.evaluate(X,Y)"
   ],
   "metadata": {
    "collapsed": false,
    "pycharm": {
     "name": "#%%\n",
     "is_executing": false
    }
   }
  },
  {
   "cell_type": "code",
   "execution_count": 6,
   "outputs": [],
   "source": [],
   "metadata": {
    "collapsed": false,
    "pycharm": {
     "name": "#%%\n",
     "is_executing": false
    }
   }
  },
  {
   "cell_type": "markdown",
   "source": [
    "Text Generation"
   ],
   "metadata": {
    "collapsed": false
   }
  },
  {
   "cell_type": "code",
   "source": [
    "idx_to_words= create_idx_to_words(tokenizer)\n",
    "\n"
   ],
   "metadata": {
    "collapsed": false,
    "pycharm": {
     "name": "#%%\n",
     "is_executing": false
    }
   },
   "execution_count": 7,
   "outputs": []
  },
  {
   "cell_type": "markdown",
   "source": [
    "Accuracy Calculation"
   ],
   "metadata": {
    "collapsed": false
   }
  },
  {
   "cell_type": "code",
   "execution_count": 13,
   "outputs": [
    {
     "data": {
      "text/plain": "                                                 headline\n0       aba decides against community broadcasting lic...\n1          act fire witnesses must be aware of defamation\n2          a g calls for infrastructure protection summit\n3                air nz staff in aust strike for pay rise\n4           air nz strike to affect australian travellers\n...                                                   ...\n199995                            glory on top of knights\n199996            gm canola contamination report released\n199997    governments work towards charlestown masterplan\n199998    govt accused of using bullying tactics to force\n199999    govt bypasses council and approves denmark wind\n\n[200000 rows x 1 columns]",
      "text/html": "<div>\n<style scoped>\n    .dataframe tbody tr th:only-of-type {\n        vertical-align: middle;\n    }\n\n    .dataframe tbody tr th {\n        vertical-align: top;\n    }\n\n    .dataframe thead th {\n        text-align: right;\n    }\n</style>\n<table border=\"1\" class=\"dataframe\">\n  <thead>\n    <tr style=\"text-align: right;\">\n      <th></th>\n      <th>headline</th>\n    </tr>\n  </thead>\n  <tbody>\n    <tr>\n      <th>0</th>\n      <td>aba decides against community broadcasting lic...</td>\n    </tr>\n    <tr>\n      <th>1</th>\n      <td>act fire witnesses must be aware of defamation</td>\n    </tr>\n    <tr>\n      <th>2</th>\n      <td>a g calls for infrastructure protection summit</td>\n    </tr>\n    <tr>\n      <th>3</th>\n      <td>air nz staff in aust strike for pay rise</td>\n    </tr>\n    <tr>\n      <th>4</th>\n      <td>air nz strike to affect australian travellers</td>\n    </tr>\n    <tr>\n      <th>...</th>\n      <td>...</td>\n    </tr>\n    <tr>\n      <th>199995</th>\n      <td>glory on top of knights</td>\n    </tr>\n    <tr>\n      <th>199996</th>\n      <td>gm canola contamination report released</td>\n    </tr>\n    <tr>\n      <th>199997</th>\n      <td>governments work towards charlestown masterplan</td>\n    </tr>\n    <tr>\n      <th>199998</th>\n      <td>govt accused of using bullying tactics to force</td>\n    </tr>\n    <tr>\n      <th>199999</th>\n      <td>govt bypasses council and approves denmark wind</td>\n    </tr>\n  </tbody>\n</table>\n<p>200000 rows × 1 columns</p>\n</div>"
     },
     "metadata": {},
     "output_type": "execute_result",
     "execution_count": 13
    }
   ],
   "source": [
    "raw_data"
   ],
   "metadata": {
    "collapsed": false,
    "pycharm": {
     "name": "#%%\n",
     "is_executing": false
    }
   }
  },
  {
   "cell_type": "code",
   "execution_count": 32,
   "outputs": [],
   "source": [
    "#lol = raw_data.values.toList()\n",
    "reference_data = [headline.split() for headline in raw_data['headline']]\n",
    "#reference_data"
   ],
   "metadata": {
    "collapsed": false,
    "pycharm": {
     "name": "#%%\n",
     "is_executing": false
    }
   }
  },
  {
   "cell_type": "code",
   "execution_count": 33,
   "outputs": [
    {
     "name": "stdout",
     "text": [
      "pred_idx:  1123 pred_word:  rule\npred_idx:  19 pred_word:  out\npred_idx:  5 pred_word:  in\npred_idx:  95 pred_word:  top\npred_idx:  146 pred_word:  final\npred_idx: ",
      " 742 pred_word:  officials\npred_idx:  2 pred_word:  ■\nreturn sent:  ÷ rule out in top final officials\n"
     ],
     "output_type": "stream"
    },
    {
     "data": {
      "text/plain": "'rule out in top final officials'"
     },
     "metadata": {},
     "output_type": "execute_result",
     "execution_count": 33
    }
   ],
   "source": [
    "text = generate_text(parameters.start, model, idx_to_words, tokenizer, parameters.max_len, parameters.end, temp=0.75)\n",
    "text "
   ],
   "metadata": {
    "collapsed": false,
    "pycharm": {
     "name": "#%%\n",
     "is_executing": false
    }
   }
  },
  {
   "cell_type": "code",
   "execution_count": 36,
   "outputs": [
    {
     "data": {
      "text/plain": "1.0852228491287355"
     },
     "metadata": {},
     "output_type": "execute_result",
     "execution_count": 36
    }
   ],
   "source": [
    "cc = SmoothingFunction()\n",
    "bleu1 = nltk.translate.bleu_score.sentence_bleu(reference_data, text.split(),smoothing_function=cc.method4)\n",
    "bleu1\n"
   ],
   "metadata": {
    "collapsed": false,
    "pycharm": {
     "name": "#%%\n",
     "is_executing": false
    }
   }
  }
 ],
 "metadata": {
  "kernelspec": {
   "display_name": "Python 3",
   "language": "python",
   "name": "python3"
  },
  "language_info": {
   "codemirror_mode": {
    "name": "ipython",
    "version": 2
   },
   "file_extension": ".py",
   "mimetype": "text/x-python",
   "name": "python",
   "nbconvert_exporter": "python",
   "pygments_lexer": "ipython2",
   "version": "2.7.6"
  },
  "pycharm": {
   "stem_cell": {
    "cell_type": "raw",
    "source": [],
    "metadata": {
     "collapsed": false
    }
   }
  }
 },
 "nbformat": 4,
 "nbformat_minor": 0
}