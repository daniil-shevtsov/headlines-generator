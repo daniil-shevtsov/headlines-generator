{
 "cells": [
  {
   "cell_type": "code",
   "execution_count": 1,
   "metadata": {
    "collapsed": true,
    "pycharm": {
     "is_executing": false,
     "name": "#%%\n"
    }
   },
   "outputs": [],
   "source": [
    "\n",
    "import generator\n",
    "from generator.main import read_data, format_data, generate_text, create_idx_to_words\n",
    "from generator.main import build_model\n",
    "from generator.main import get_parameters"
   ]
  },
  {
   "cell_type": "code",
   "execution_count": 2,
   "outputs": [
    {
     "data": {
      "text/plain": "Parameters(max_features=1000, max_len=20, epochs=3, start='÷', end='■')"
     },
     "metadata": {},
     "output_type": "execute_result",
     "execution_count": 2
    }
   ],
   "source": [
    "parameters = get_parameters()\n",
    "parameters"
   ],
   "metadata": {
    "collapsed": false,
    "pycharm": {
     "name": "#%%\n",
     "is_executing": false
    }
   }
  },
  {
   "cell_type": "markdown",
   "source": [
    "Data Processing"
   ],
   "metadata": {
    "collapsed": false
   }
  },
  {
   "cell_type": "code",
   "execution_count": 3,
   "outputs": [
    {
     "data": {
      "text/plain": "                                               headline\n0     aba decides against community broadcasting lic...\n1        act fire witnesses must be aware of defamation\n2        a g calls for infrastructure protection summit\n3              air nz staff in aust strike for pay rise\n4         air nz strike to affect australian travellers\n...                                                 ...\n1612              mosley sides with minardi in cash row\n1613                 mp highlights doctor shortage woes\n1614                 mp seeks support for fire bug bill\n1615                     murder trial hears phone tapes\n1616           northampton airs festival shift concerns\n\n[1617 rows x 1 columns]",
      "text/html": "<div>\n<style scoped>\n    .dataframe tbody tr th:only-of-type {\n        vertical-align: middle;\n    }\n\n    .dataframe tbody tr th {\n        vertical-align: top;\n    }\n\n    .dataframe thead th {\n        text-align: right;\n    }\n</style>\n<table border=\"1\" class=\"dataframe\">\n  <thead>\n    <tr style=\"text-align: right;\">\n      <th></th>\n      <th>headline</th>\n    </tr>\n  </thead>\n  <tbody>\n    <tr>\n      <th>0</th>\n      <td>aba decides against community broadcasting lic...</td>\n    </tr>\n    <tr>\n      <th>1</th>\n      <td>act fire witnesses must be aware of defamation</td>\n    </tr>\n    <tr>\n      <th>2</th>\n      <td>a g calls for infrastructure protection summit</td>\n    </tr>\n    <tr>\n      <th>3</th>\n      <td>air nz staff in aust strike for pay rise</td>\n    </tr>\n    <tr>\n      <th>4</th>\n      <td>air nz strike to affect australian travellers</td>\n    </tr>\n    <tr>\n      <th>...</th>\n      <td>...</td>\n    </tr>\n    <tr>\n      <th>1612</th>\n      <td>mosley sides with minardi in cash row</td>\n    </tr>\n    <tr>\n      <th>1613</th>\n      <td>mp highlights doctor shortage woes</td>\n    </tr>\n    <tr>\n      <th>1614</th>\n      <td>mp seeks support for fire bug bill</td>\n    </tr>\n    <tr>\n      <th>1615</th>\n      <td>murder trial hears phone tapes</td>\n    </tr>\n    <tr>\n      <th>1616</th>\n      <td>northampton airs festival shift concerns</td>\n    </tr>\n  </tbody>\n</table>\n<p>1617 rows × 1 columns</p>\n</div>"
     },
     "metadata": {},
     "output_type": "execute_result",
     "execution_count": 3
    }
   ],
   "source": [
    "raw_data = read_data()\n",
    "raw_data\n"
   ],
   "metadata": {
    "collapsed": false,
    "pycharm": {
     "name": "#%%\n",
     "is_executing": false
    }
   }
  },
  {
   "cell_type": "code",
   "execution_count": 4,
   "outputs": [
    {
     "data": {
      "text/plain": "(array([[  0,   0,   0, ...,   0,   1,  56],\n        [  0,   0,   0, ...,   1,  56, 176],\n        [  0,   0,   0, ...,  56, 176, 881],\n        ...,\n        [  0,   0,   0, ...,  71, 397, 654],\n        [  0,   0,   0, ...,   0,   1, 298],\n        [  0,   0,   0, ...,   1, 298,  95]]),\n array([[0., 0., 0., ..., 0., 0., 0.],\n        [0., 0., 0., ..., 0., 0., 0.],\n        [0., 0., 1., ..., 0., 0., 0.],\n        ...,\n        [0., 0., 1., ..., 0., 0., 0.],\n        [0., 0., 0., ..., 0., 0., 0.],\n        [0., 0., 1., ..., 0., 0., 0.]], dtype=float32),\n <keras_preprocessing.text.Tokenizer at 0x14e062c2948>)"
     },
     "metadata": {},
     "output_type": "execute_result",
     "execution_count": 4
    }
   ],
   "source": [
    "X, Y, tokenizer = format_data(raw_data, parameters.max_features, parameters.max_len)\n",
    "X, Y, tokenizer"
   ],
   "metadata": {
    "collapsed": false,
    "pycharm": {
     "name": "#%%\n",
     "is_executing": false
    }
   }
  },
  {
   "cell_type": "code",
   "execution_count": 5,
   "outputs": [
    {
     "data": {
      "text/plain": "(176, 1, 2)"
     },
     "metadata": {},
     "output_type": "execute_result",
     "execution_count": 5
    }
   ],
   "source": [
    "tokenizer.word_index['community'], tokenizer.word_index[parameters.start], tokenizer.word_index[parameters.end]"
   ],
   "metadata": {
    "collapsed": false,
    "pycharm": {
     "name": "#%%\n",
     "is_executing": false
    }
   }
  },
  {
   "cell_type": "markdown",
   "source": [
    "Model Building"
   ],
   "metadata": {
    "collapsed": false
   }
  },
  {
   "cell_type": "code",
   "execution_count": 6,
   "outputs": [
    {
     "name": "stdout",
     "text": [
      "Epoch 1/3\n",
      "\r 1/57 [..............................] - ETA: 2:49 - loss: 6.9073 - accuracy: 0.0000e+00",
      "\b\b\b\b\b\b\b\b\b\b\b\b\b\b\b\b\b\b\b\b\b\b\b\b\b\b\b\b\b\b\b\b\b\b\b\b\b\b\b\b\b\b\b\b\b\b\b\b\b\b\b\b\b\b\b\b\b\b\b\b\b\b\b\b\b\b\b\b\b\b\b\b\b\b\b\b\b\b\b\b\b\b\b\b\b\b\b\b\r 3/57 [>.............................] - ETA: 2s - loss: 6.9045 - accuracy: 0.0139      ",
      "\b\b\b\b\b\b\b\b\b\b\b\b\b\b\b\b\b\b\b\b\b\b\b\b\b\b\b\b\b\b\b\b\b\b\b\b\b\b\b\b\b\b\b\b\b\b\b\b\b\b\b\b\b\b\b\b\b\b\b\b\b\b\b\b\b\b\b\b\b\b\b\b\b\b\b\b\b\b\b\b\b\b\r 4/57 [=>............................] - ETA: 2s - loss: 6.9032 - accuracy: 0.0319",
      "\b\b\b\b\b\b\b\b\b\b\b\b\b\b\b\b\b\b\b\b\b\b\b\b\b\b\b\b\b\b\b\b\b\b\b\b\b\b\b\b\b\b\b\b\b\b\b\b\b\b\b\b\b\b\b\b\b\b\b\b\b\b\b\b\b\b\b\b\b\b\b\b\b\b\b\b\b\b\b\b\b\b",
      "\r 5/57 [=>............................] - ETA: 2s - loss: 6.9019 - accuracy: 0.0461",
      "\b\b\b\b\b\b\b\b\b\b\b\b\b\b\b\b\b\b\b\b\b\b\b\b\b\b\b\b\b\b\b\b\b\b\b\b\b\b\b\b\b\b\b\b\b\b\b\b\b\b\b\b\b\b\b\b\b\b\b\b\b\b\b\b\b\b\b\b\b\b\b\b\b\b\b\b\b\b\b\b\b\b",
      "\r 7/57 [==>...........................] - ETA: 2s - loss: 6.8992 - accuracy: 0.0673",
      "\b\b\b\b\b\b\b\b\b\b\b\b\b\b\b\b\b\b\b\b\b\b\b\b\b\b\b\b\b\b\b\b\b\b\b\b\b\b\b\b\b\b\b\b\b\b\b\b\b\b\b\b\b\b\b\b\b\b\b\b\b\b\b\b\b\b\b\b\b\b\b\b\b\b\b\b\b\b\b\b\b\b\r 9/57 [===>..........................] - ETA: 2s - loss: 6.8957 - accuracy: 0.0846",
      "\b\b\b\b\b\b\b\b\b\b\b\b\b\b\b\b\b\b\b\b\b\b\b\b\b\b\b\b\b\b\b\b\b\b\b\b\b\b\b\b\b\b\b\b\b\b\b\b\b\b\b\b\b\b\b\b\b\b\b\b\b\b\b\b\b\b\b\b\b\b\b\b\b\b\b\b\b\b\b\b\b\b",
      "\r10/57 [====>.........................] - ETA: 2s - loss: 6.8937 - accuracy: 0.0923",
      "\b\b\b\b\b\b\b\b\b\b\b\b\b\b\b\b\b\b\b\b\b\b\b\b\b\b\b\b\b\b\b\b\b\b\b\b\b\b\b\b\b\b\b\b\b\b\b\b\b\b\b\b\b\b\b\b\b\b\b\b\b\b\b\b\b\b\b\b\b\b\b\b\b\b\b\b\b\b\b\b\b\b\r12/57 [=====>........................] - ETA: 2s - loss: 6.8891 - accuracy: 0.1058",
      "\b\b\b\b\b\b\b\b\b\b\b\b\b\b\b\b\b\b\b\b\b\b\b\b\b\b\b\b\b\b\b\b\b\b\b\b\b\b\b\b\b\b\b\b\b\b\b\b\b\b\b\b\b\b\b\b\b\b\b\b\b\b\b\b\b\b\b\b\b\b\b\b\b\b\b\b\b\b\b\b\b\b",
      "\r13/57 [=====>........................] - ETA: 2s - loss: 6.8867 - accuracy: 0.1114",
      "\b\b\b\b\b\b\b\b\b\b\b\b\b\b\b\b\b\b\b\b\b\b\b\b\b\b\b\b\b\b\b\b\b\b\b\b\b\b\b\b\b\b\b\b\b\b\b\b\b\b\b\b\b\b\b\b\b\b\b\b\b\b\b\b\b\b\b\b\b\b\b\b\b\b\b\b\b\b\b\b\b\b",
      "\r14/57 [======>.......................] - ETA: 2s - loss: 6.8840 - accuracy: 0.1166",
      "\b\b\b\b\b\b\b\b\b\b\b\b\b\b\b\b\b\b\b\b\b\b\b\b\b\b\b\b\b\b\b\b\b\b\b\b\b\b\b\b\b\b\b\b\b\b\b\b\b\b\b\b\b\b\b\b\b\b\b\b\b\b\b\b\b\b\b\b\b\b\b\b\b\b\b\b\b\b\b\b\b\b\r15/57 [======>.......................] - ETA: 2s - loss: 6.8810 - accuracy: 0.1213",
      "\b\b\b\b\b\b\b\b\b\b\b\b\b\b\b\b\b\b\b\b\b\b\b\b\b\b\b\b\b\b\b\b\b\b\b\b\b\b\b\b\b\b\b\b\b\b\b\b\b\b\b\b\b\b\b\b\b\b\b\b\b\b\b\b\b\b\b\b\b\b\b\b\b\b\b\b\b\b\b\b\b\b\r17/57 [=======>......................] - ETA: 2s - loss: 6.8749 - accuracy: 0.1295",
      "\b\b\b\b\b\b\b\b\b\b\b\b\b\b\b\b\b\b\b\b\b\b\b\b\b\b\b\b\b\b\b\b\b\b\b\b\b\b\b\b\b\b\b\b\b\b\b\b\b\b\b\b\b\b\b\b\b\b\b\b\b\b\b\b\b\b\b\b\b\b\b\b\b\b\b\b\b\b\b\b\b\b",
      "\r19/57 [=========>....................] - ETA: 2s - loss: 6.8677 - accuracy: 0.1365",
      "\b\b\b\b\b\b\b\b\b\b\b\b\b\b\b\b\b\b\b\b\b\b\b\b\b\b\b\b\b\b\b\b\b\b\b\b\b\b\b\b\b\b\b\b\b\b\b\b\b\b\b\b\b\b\b\b\b\b\b\b\b\b\b\b\b\b\b\b\b\b\b\b\b\b\b\b\b\b\b\b\b\b\r20/57 [=========>....................] - ETA: 2s - loss: 6.8637 - accuracy: 0.1395",
      "\b\b\b\b\b\b\b\b\b\b\b\b\b\b\b\b\b\b\b\b\b\b\b\b\b\b\b\b\b\b\b\b\b\b\b\b\b\b\b\b\b\b\b\b\b\b\b\b\b\b\b\b\b\b\b\b\b\b\b\b\b\b\b\b\b\b\b\b\b\b\b\b\b\b\b\b\b\b\b\b\b\b\r21/57 [==========>...................] - ETA: 2s - loss: 6.8595 - accuracy: 0.1423",
      "\b\b\b\b\b\b\b\b\b\b\b\b\b\b\b\b\b\b\b\b\b\b\b\b\b\b\b\b\b\b\b\b\b\b\b\b\b\b\b\b\b\b\b\b\b\b\b\b\b\b\b\b\b\b\b\b\b\b\b\b\b\b\b\b\b\b\b\b\b\b\b\b\b\b\b\b\b\b\b\b\b\b\r22/57 [==========>...................] - ETA: 1s - loss: 6.8549 - accuracy: 0.1449",
      "\b\b\b\b\b\b\b\b\b\b\b\b\b\b\b\b\b\b\b\b\b\b\b\b\b\b\b\b\b\b\b\b\b\b\b\b\b\b\b\b\b\b\b\b\b\b\b\b\b\b\b\b\b\b\b\b\b\b\b\b\b\b\b\b\b\b\b\b\b\b\b\b\b\b\b\b\b\b\b\b\b\b\r23/57 [===========>..................] - ETA: 1s - loss: 6.8502 - accuracy: 0.1473",
      "\b\b\b\b\b\b\b\b\b\b\b\b\b\b\b\b\b\b\b\b\b\b\b\b\b\b\b\b\b\b\b\b\b\b\b\b\b\b\b\b\b\b\b\b\b\b\b\b\b\b\b\b\b\b\b\b\b\b\b\b\b\b\b\b\b\b\b\b\b\b\b\b\b\b\b\b\b\b\b\b\b\b",
      "\r24/57 [===========>..................] - ETA: 1s - loss: 6.8453 - accuracy: 0.1495",
      "\b\b\b\b\b\b\b\b\b\b\b\b\b\b\b\b\b\b\b\b\b\b\b\b\b\b\b\b\b\b\b\b\b\b\b\b\b\b\b\b\b\b\b\b\b\b\b\b\b\b\b\b\b\b\b\b\b\b\b\b\b\b\b\b\b\b\b\b\b\b\b\b\b\b\b\b\b\b\b\b\b\b\r25/57 [============>.................] - ETA: 1s - loss: 6.8403 - accuracy: 0.1515",
      "\b\b\b\b\b\b\b\b\b\b\b\b\b\b\b\b\b\b\b\b\b\b\b\b\b\b\b\b\b\b\b\b\b\b\b\b\b\b\b\b\b\b\b\b\b\b\b\b\b\b\b\b\b\b\b\b\b\b\b\b\b\b\b\b\b\b\b\b\b\b\b\b\b\b\b\b\b\b\b\b\b\b\r26/57 [============>.................] - ETA: 1s - loss: 6.8351 - accuracy: 0.1533",
      "\b\b\b\b\b\b\b\b\b\b\b\b\b\b\b\b\b\b\b\b\b\b\b\b\b\b\b\b\b\b\b\b\b\b\b\b\b\b\b\b\b\b\b\b\b\b\b\b\b\b\b\b\b\b\b\b\b\b\b\b\b\b\b\b\b\b\b\b\b\b\b\b\b\b\b\b\b\b\b\b\b\b\r28/57 [=============>................] - ETA: 1s - loss: 6.8241 - accuracy: 0.1567",
      "\b\b\b\b\b\b\b\b\b\b\b\b\b\b\b\b\b\b\b\b\b\b\b\b\b\b\b\b\b\b\b\b\b\b\b\b\b\b\b\b\b\b\b\b\b\b\b\b\b\b\b\b\b\b\b\b\b\b\b\b\b\b\b\b\b\b\b\b\b\b\b\b\b\b\b\b\b\b\b\b\b\b",
      "\r30/57 [==============>...............] - ETA: 1s - loss: 6.8125 - accuracy: 0.1597",
      "\b\b\b\b\b\b\b\b\b\b\b\b\b\b\b\b\b\b\b\b\b\b\b\b\b\b\b\b\b\b\b\b\b\b\b\b\b\b\b\b\b\b\b\b\b\b\b\b\b\b\b\b\b\b\b\b\b\b\b\b\b\b\b\b\b\b\b\b\b\b\b\b\b\b\b\b\b\b\b\b\b\b\r32/57 [===============>..............] - ETA: 1s - loss: 6.8002 - accuracy: 0.1624",
      "\b\b\b\b\b\b\b\b\b\b\b\b\b\b\b\b\b\b\b\b\b\b\b\b\b\b\b\b\b\b\b\b\b\b\b\b\b\b\b\b\b\b\b\b\b\b\b\b\b\b\b\b\b\b\b\b\b\b\b\b\b\b\b\b\b\b\b\b\b\b\b\b\b\b\b\b\b\b\b\b\b\b\r33/57 [================>.............] - ETA: 1s - loss: 6.7938 - accuracy: 0.1637",
      "\b\b\b\b\b\b\b\b\b\b\b\b\b\b\b\b\b\b\b\b\b\b\b\b\b\b\b\b\b\b\b\b\b\b\b\b\b\b\b\b\b\b\b\b\b\b\b\b\b\b\b\b\b\b\b\b\b\b\b\b\b\b\b\b\b\b\b\b\b\b\b\b\b\b\b\b\b\b\b\b\b\b\r35/57 [=================>............] - ETA: 1s - loss: 6.7803 - accuracy: 0.1663",
      "\b\b\b\b\b\b\b\b\b\b\b\b\b\b\b\b\b\b\b\b\b\b\b\b\b\b\b\b\b\b\b\b\b\b\b\b\b\b\b\b\b\b\b\b\b\b\b\b\b\b\b\b\b\b\b\b\b\b\b\b\b\b\b\b\b\b\b\b\b\b\b\b\b\b\b\b\b\b\b\b\b\b\r37/57 [==================>...........] - ETA: 1s - loss: 6.7664 - accuracy: 0.1686",
      "\b\b\b\b\b\b\b\b\b\b\b\b\b\b\b\b\b\b\b\b\b\b\b\b\b\b\b\b\b\b\b\b\b\b\b\b\b\b\b\b\b\b\b\b\b\b\b\b\b\b\b\b\b\b\b\b\b\b\b\b\b\b\b\b\b\b\b\b\b\b\b\b\b\b\b\b\b\b\b\b\b\b\r39/57 [===================>..........] - ETA: 1s - loss: 6.7521 - accuracy: 0.1706",
      "\b\b\b\b\b\b\b\b\b\b\b\b\b\b\b\b\b\b\b\b\b\b\b\b\b\b\b\b\b\b\b\b\b\b\b\b\b\b\b\b\b\b\b\b\b\b\b\b\b\b\b\b\b\b\b\b\b\b\b\b\b\b\b\b\b\b\b\b\b\b\b\b\b\b\b\b\b\b\b\b\b\b\r41/57 [====================>.........] - ETA: 0s - loss: 6.7378 - accuracy: 0.1725",
      "\b\b\b\b\b\b\b\b\b\b\b\b\b\b\b\b\b\b\b\b\b\b\b\b\b\b\b\b\b\b\b\b\b\b\b\b\b\b\b\b\b\b\b\b\b\b\b\b\b\b\b\b\b\b\b\b\b\b\b\b\b\b\b\b\b\b\b\b\b\b\b\b\b\b\b\b\b\b\b\b\b\b\r43/57 [=====================>........] - ETA: 0s - loss: 6.7233 - accuracy: 0.1743",
      "\b\b\b\b\b\b\b\b\b\b\b\b\b\b\b\b\b\b\b\b\b\b\b\b\b\b\b\b\b\b\b\b\b\b\b\b\b\b\b\b\b\b\b\b\b\b\b\b\b\b\b\b\b\b\b\b\b\b\b\b\b\b\b\b\b\b\b\b\b\b\b\b\b\b\b\b\b\b\b\b\b\b",
      "\r45/57 [======================>.......] - ETA: 0s - loss: 6.7087 - accuracy: 0.1760",
      "\b\b\b\b\b\b\b\b\b\b\b\b\b\b\b\b\b\b\b\b\b\b\b\b\b\b\b\b\b\b\b\b\b\b\b\b\b\b\b\b\b\b\b\b\b\b\b\b\b\b\b\b\b\b\b\b\b\b\b\b\b\b\b\b\b\b\b\b\b\b\b\b\b\b\b\b\b\b\b\b\b\b\r46/57 [=======================>......] - ETA: 0s - loss: 6.7013 - accuracy: 0.1768",
      "\b\b\b\b\b\b\b\b\b\b\b\b\b\b\b\b\b\b\b\b\b\b\b\b\b\b\b\b\b\b\b\b\b\b\b\b\b\b\b\b\b\b\b\b\b\b\b\b\b\b\b\b\b\b\b\b\b\b\b\b\b\b\b\b\b\b\b\b\b\b\b\b\b\b\b\b\b\b\b\b\b\b",
      "\r47/57 [=======================>......] - ETA: 0s - loss: 6.6938 - accuracy: 0.1776",
      "\b\b\b\b\b\b\b\b\b\b\b\b\b\b\b\b\b\b\b\b\b\b\b\b\b\b\b\b\b\b\b\b\b\b\b\b\b\b\b\b\b\b\b\b\b\b\b\b\b\b\b\b\b\b\b\b\b\b\b\b\b\b\b\b\b\b\b\b\b\b\b\b\b\b\b\b\b\b\b\b\b\b",
      "\r49/57 [========================>.....] - ETA: 0s - loss: 6.6787 - accuracy: 0.1791",
      "\b\b\b\b\b\b\b\b\b\b\b\b\b\b\b\b\b\b\b\b\b\b\b\b\b\b\b\b\b\b\b\b\b\b\b\b\b\b\b\b\b\b\b\b\b\b\b\b\b\b\b\b\b\b\b\b\b\b\b\b\b\b\b\b\b\b\b\b\b\b\b\b\b\b\b\b\b\b\b\b\b\b\r51/57 [=========================>....] - ETA: 0s - loss: 6.6635 - accuracy: 0.1805",
      "\b\b\b\b\b\b\b\b\b\b\b\b\b\b\b\b\b\b\b\b\b\b\b\b\b\b\b\b\b\b\b\b\b\b\b\b\b\b\b\b\b\b\b\b\b\b\b\b\b\b\b\b\b\b\b\b\b\b\b\b\b\b\b\b\b\b\b\b\b\b\b\b\b\b\b\b\b\b\b\b\b\b",
      "\r53/57 [==========================>...] - ETA: 0s - loss: 6.6483 - accuracy: 0.1818",
      "\b\b\b\b\b\b\b\b\b\b\b\b\b\b\b\b\b\b\b\b\b\b\b\b\b\b\b\b\b\b\b\b\b\b\b\b\b\b\b\b\b\b\b\b\b\b\b\b\b\b\b\b\b\b\b\b\b\b\b\b\b\b\b\b\b\b\b\b\b\b\b\b\b\b\b\b\b\b\b\b\b\b\r54/57 [===========================>..] - ETA: 0s - loss: 6.6407 - accuracy: 0.1824",
      "\b\b\b\b\b\b\b\b\b\b\b\b\b\b\b\b\b\b\b\b\b\b\b\b\b\b\b\b\b\b\b\b\b\b\b\b\b\b\b\b\b\b\b\b\b\b\b\b\b\b\b\b\b\b\b\b\b\b\b\b\b\b\b\b\b\b\b\b\b\b\b\b\b\b\b\b\b\b\b\b\b\b",
      "\r55/57 [===========================>..] - ETA: 0s - loss: 6.6332 - accuracy: 0.1830",
      "\b\b\b\b\b\b\b\b\b\b\b\b\b\b\b\b\b\b\b\b\b\b\b\b\b\b\b\b\b\b\b\b\b\b\b\b\b\b\b\b\b\b\b\b\b\b\b\b\b\b\b\b\b\b\b\b\b\b\b\b\b\b\b\b\b\b\b\b\b\b\b\b\b\b\b\b\b\b\b\b\b\b\r57/57 [==============================] - ETA: 0s - loss: 6.6182 - accuracy: 0.1841",
      "\b\b\b\b\b\b\b\b\b\b\b\b\b\b\b\b\b\b\b\b\b\b\b\b\b\b\b\b\b\b\b\b\b\b\b\b\b\b\b\b\b\b\b\b\b\b\b\b\b\b\b\b\b\b\b\b\b\b\b\b\b\b\b\b\b\b\b\b\b\b\b\b\b\b\b\b\b\b\b\b\b\b\r57/57 [==============================] - 6s 53ms/step - loss: 6.6111 - accuracy: 0.1846\n",
      "Epoch 2/3",
      "\n\r 1/57 [..............................] - ETA: 2s - loss: 5.5752 - accuracy: 0.1797",
      "\b\b\b\b\b\b\b\b\b\b\b\b\b\b\b\b\b\b\b\b\b\b\b\b\b\b\b\b\b\b\b\b\b\b\b\b\b\b\b\b\b\b\b\b\b\b\b\b\b\b\b\b\b\b\b\b\b\b\b\b\b\b\b\b\b\b\b\b\b\b\b\b\b\b\b\b\b\b\b\b\b\b",
      "\r 2/57 [>.............................] - ETA: 3s - loss: 5.3182 - accuracy: 0.2188",
      "\b\b\b\b\b\b\b\b\b\b\b\b\b\b\b\b\b\b\b\b\b\b\b\b\b\b\b\b\b\b\b\b\b\b\b\b\b\b\b\b\b\b\b\b\b\b\b\b\b\b\b\b\b\b\b\b\b\b\b\b\b\b\b\b\b\b\b\b\b\b\b\b\b\b\b\b\b\b\b\b\b\b",
      "\r 3/57 [>.............................] - ETA: 3s - loss: 5.2824 - accuracy: 0.2248",
      "\b\b\b\b\b\b\b\b\b\b\b\b\b\b\b\b\b\b\b\b\b\b\b\b\b\b\b\b\b\b\b\b\b\b\b\b\b\b\b\b\b\b\b\b\b\b\b\b\b\b\b\b\b\b\b\b\b\b\b\b\b\b\b\b\b\b\b\b\b\b\b\b\b\b\b\b\b\b\b\b\b\b\r 4/57 [=>............................] - ETA: 3s - loss: 5.2780 - accuracy: 0.2253",
      "\b\b\b\b\b\b\b\b\b\b\b\b\b\b\b\b\b\b\b\b\b\b\b\b\b\b\b\b\b\b\b\b\b\b\b\b\b\b\b\b\b\b\b\b\b\b\b\b\b\b\b\b\b\b\b\b\b\b\b\b\b\b\b\b\b\b\b\b\b\b\b\b\b\b\b\b\b\b\b\b\b\b",
      "\r 5/57 [=>............................] - ETA: 3s - loss: 5.2811 - accuracy: 0.2243",
      "\b\b\b\b\b\b\b\b\b\b\b\b\b\b\b\b\b\b\b\b\b\b\b\b\b\b\b\b\b\b\b\b\b\b\b\b\b\b\b\b\b\b\b\b\b\b\b\b\b\b\b\b\b\b\b\b\b\b\b\b\b\b\b\b\b\b\b\b\b\b\b\b\b\b\b\b\b\b\b\b\b\b",
      "\r 7/57 [==>...........................] - ETA: 2s - loss: 5.2768 - accuracy: 0.2253",
      "\b\b\b\b\b\b\b\b\b\b\b\b\b\b\b\b\b\b\b\b\b\b\b\b\b\b\b\b\b\b\b\b\b\b\b\b\b\b\b\b\b\b\b\b\b\b\b\b\b\b\b\b\b\b\b\b\b\b\b\b\b\b\b\b\b\b\b\b\b\b\b\b\b\b\b\b\b\b\b\b\b\b",
      "\r 9/57 [===>..........................] - ETA: 2s - loss: 5.2769 - accuracy: 0.2258",
      "\b\b\b\b\b\b\b\b\b\b\b\b\b\b\b\b\b\b\b\b\b\b\b\b\b\b\b\b\b\b\b\b\b\b\b\b\b\b\b\b\b\b\b\b\b\b\b\b\b\b\b\b\b\b\b\b\b\b\b\b\b\b\b\b\b\b\b\b\b\b\b\b\b\b\b\b\b\b\b\b\b\b\r11/57 [====>.........................] - ETA: 2s - loss: 5.2761 - accuracy: 0.2264",
      "\b\b\b\b\b\b\b\b\b\b\b\b\b\b\b\b\b\b\b\b\b\b\b\b\b\b\b\b\b\b\b\b\b\b\b\b\b\b\b\b\b\b\b\b\b\b\b\b\b\b\b\b\b\b\b\b\b\b\b\b\b\b\b\b\b\b\b\b\b\b\b\b\b\b\b\b\b\b\b\b\b\b",
      "\r13/57 [=====>........................] - ETA: 2s - loss: 5.2753 - accuracy: 0.2262",
      "\b\b\b\b\b\b\b\b\b\b\b\b\b\b\b\b\b\b\b\b\b\b\b\b\b\b\b\b\b\b\b\b\b\b\b\b\b\b\b\b\b\b\b\b\b\b\b\b\b\b\b\b\b\b\b\b\b\b\b\b\b\b\b\b\b\b\b\b\b\b\b\b\b\b\b\b\b\b\b\b\b\b\r14/57 [======>.......................] - ETA: 2s - loss: 5.2756 - accuracy: 0.2260",
      "\b\b\b\b\b\b\b\b\b\b\b\b\b\b\b\b\b\b\b\b\b\b\b\b\b\b\b\b\b\b\b\b\b\b\b\b\b\b\b\b\b\b\b\b\b\b\b\b\b\b\b\b\b\b\b\b\b\b\b\b\b\b\b\b\b\b\b\b\b\b\b\b\b\b\b\b\b\b\b\b\b\b\r16/57 [=======>......................] - ETA: 2s - loss: 5.2768 - accuracy: 0.2258",
      "\b\b\b\b\b\b\b\b\b\b\b\b\b\b\b\b\b\b\b\b\b\b\b\b\b\b\b\b\b\b\b\b\b\b\b\b\b\b\b\b\b\b\b\b\b\b\b\b\b\b\b\b\b\b\b\b\b\b\b\b\b\b\b\b\b\b\b\b\b\b\b\b\b\b\b\b\b\b\b\b\b\b",
      "\r17/57 [=======>......................] - ETA: 2s - loss: 5.2788 - accuracy: 0.2254",
      "\b\b\b\b\b\b\b\b\b\b\b\b\b\b\b\b\b\b\b\b\b\b\b\b\b\b\b\b\b\b\b\b\b\b\b\b\b\b\b\b\b\b\b\b\b\b\b\b\b\b\b\b\b\b\b\b\b\b\b\b\b\b\b\b\b\b\b\b\b\b\b\b\b\b\b\b\b\b\b\b\b\b\r18/57 [========>.....................] - ETA: 2s - loss: 5.2795 - accuracy: 0.2252",
      "\b\b\b\b\b\b\b\b\b\b\b\b\b\b\b\b\b\b\b\b\b\b\b\b\b\b\b\b\b\b\b\b\b\b\b\b\b\b\b\b\b\b\b\b\b\b\b\b\b\b\b\b\b\b\b\b\b\b\b\b\b\b\b\b\b\b\b\b\b\b\b\b\b\b\b\b\b\b\b\b\b\b\r20/57 [=========>....................] - ETA: 1s - loss: 5.2833 - accuracy: 0.2247",
      "\b\b\b\b\b\b\b\b\b\b\b\b\b\b\b\b\b\b\b\b\b\b\b\b\b\b\b\b\b\b\b\b\b\b\b\b\b\b\b\b\b\b\b\b\b\b\b\b\b\b\b\b\b\b\b\b\b\b\b\b\b\b\b\b\b\b\b\b\b\b\b\b\b\b\b\b\b\b\b\b\b\b\r22/57 [==========>...................] - ETA: 1s - loss: 5.2873 - accuracy: 0.2243",
      "\b\b\b\b\b\b\b\b\b\b\b\b\b\b\b\b\b\b\b\b\b\b\b\b\b\b\b\b\b\b\b\b\b\b\b\b\b\b\b\b\b\b\b\b\b\b\b\b\b\b\b\b\b\b\b\b\b\b\b\b\b\b\b\b\b\b\b\b\b\b\b\b\b\b\b\b\b\b\b\b\b\b\r24/57 [===========>..................] - ETA: 1s - loss: 5.2916 - accuracy: 0.2239",
      "\b\b\b\b\b\b\b\b\b\b\b\b\b\b\b\b\b\b\b\b\b\b\b\b\b\b\b\b\b\b\b\b\b\b\b\b\b\b\b\b\b\b\b\b\b\b\b\b\b\b\b\b\b\b\b\b\b\b\b\b\b\b\b\b\b\b\b\b\b\b\b\b\b\b\b\b\b\b\b\b\b\b\r25/57 [============>.................] - ETA: 1s - loss: 5.2937 - accuracy: 0.2236",
      "\b\b\b\b\b\b\b\b\b\b\b\b\b\b\b\b\b\b\b\b\b\b\b\b\b\b\b\b\b\b\b\b\b\b\b\b\b\b\b\b\b\b\b\b\b\b\b\b\b\b\b\b\b\b\b\b\b\b\b\b\b\b\b\b\b\b\b\b\b\b\b\b\b\b\b\b\b\b\b\b\b\b\r26/57 [============>.................] - ETA: 1s - loss: 5.2957 - accuracy: 0.2234",
      "\b\b\b\b\b\b\b\b\b\b\b\b\b\b\b\b\b\b\b\b\b\b\b\b\b\b\b\b\b\b\b\b\b\b\b\b\b\b\b\b\b\b\b\b\b\b\b\b\b\b\b\b\b\b\b\b\b\b\b\b\b\b\b\b\b\b\b\b\b\b\b\b\b\b\b\b\b\b\b\b\b\b",
      "\r27/57 [=============>................] - ETA: 1s - loss: 5.2975 - accuracy: 0.2233",
      "\b\b\b\b\b\b\b\b\b\b\b\b\b\b\b\b\b\b\b\b\b\b\b\b\b\b\b\b\b\b\b\b\b\b\b\b\b\b\b\b\b\b\b\b\b\b\b\b\b\b\b\b\b\b\b\b\b\b\b\b\b\b\b\b\b\b\b\b\b\b\b\b\b\b\b\b\b\b\b\b\b\b",
      "\r28/57 [=============>................] - ETA: 1s - loss: 5.2989 - accuracy: 0.2232",
      "\b\b\b\b\b\b\b\b\b\b\b\b\b\b\b\b\b\b\b\b\b\b\b\b\b\b\b\b\b\b\b\b\b\b\b\b\b\b\b\b\b\b\b\b\b\b\b\b\b\b\b\b\b\b\b\b\b\b\b\b\b\b\b\b\b\b\b\b\b\b\b\b\b\b\b\b\b\b\b\b\b\b\r29/57 [==============>...............] - ETA: 1s - loss: 5.3004 - accuracy: 0.2232",
      "\b\b\b\b\b\b\b\b\b\b\b\b\b\b\b\b\b\b\b\b\b\b\b\b\b\b\b\b\b\b\b\b\b\b\b\b\b\b\b\b\b\b\b\b\b\b\b\b\b\b\b\b\b\b\b\b\b\b\b\b\b\b\b\b\b\b\b\b\b\b\b\b\b\b\b\b\b\b\b\b\b\b\r30/57 [==============>...............] - ETA: 1s - loss: 5.3020 - accuracy: 0.2231",
      "\b\b\b\b\b\b\b\b\b\b\b\b\b\b\b\b\b\b\b\b\b\b\b\b\b\b\b\b\b\b\b\b\b\b\b\b\b\b\b\b\b\b\b\b\b\b\b\b\b\b\b\b\b\b\b\b\b\b\b\b\b\b\b\b\b\b\b\b\b\b\b\b\b\b\b\b\b\b\b\b\b\b\r31/57 [===============>..............] - ETA: 1s - loss: 5.3034 - accuracy: 0.2230",
      "\b\b\b\b\b\b\b\b\b\b\b\b\b\b\b\b\b\b\b\b\b\b\b\b\b\b\b\b\b\b\b\b\b\b\b\b\b\b\b\b\b\b\b\b\b\b\b\b\b\b\b\b\b\b\b\b\b\b\b\b\b\b\b\b\b\b\b\b\b\b\b\b\b\b\b\b\b\b\b\b\b\b\r32/57 [===============>..............] - ETA: 1s - loss: 5.3047 - accuracy: 0.2230",
      "\b\b\b\b\b\b\b\b\b\b\b\b\b\b\b\b\b\b\b\b\b\b\b\b\b\b\b\b\b\b\b\b\b\b\b\b\b\b\b\b\b\b\b\b\b\b\b\b\b\b\b\b\b\b\b\b\b\b\b\b\b\b\b\b\b\b\b\b\b\b\b\b\b\b\b\b\b\b\b\b\b\b\r33/57 [================>.............] - ETA: 1s - loss: 5.3056 - accuracy: 0.2229",
      "\b\b\b\b\b\b\b\b\b\b\b\b\b\b\b\b\b\b\b\b\b\b\b\b\b\b\b\b\b\b\b\b\b\b\b\b\b\b\b\b\b\b\b\b\b\b\b\b\b\b\b\b\b\b\b\b\b\b\b\b\b\b\b\b\b\b\b\b\b\b\b\b\b\b\b\b\b\b\b\b\b\b",
      "\r34/57 [================>.............] - ETA: 1s - loss: 5.3063 - accuracy: 0.2229",
      "\b\b\b\b\b\b\b\b\b\b\b\b\b\b\b\b\b\b\b\b\b\b\b\b\b\b\b\b\b\b\b\b\b\b\b\b\b\b\b\b\b\b\b\b\b\b\b\b\b\b\b\b\b\b\b\b\b\b\b\b\b\b\b\b\b\b\b\b\b\b\b\b\b\b\b\b\b\b\b\b\b\b\r35/57 [=================>............] - ETA: 1s - loss: 5.3071 - accuracy: 0.2229",
      "\b\b\b\b\b\b\b\b\b\b\b\b\b\b\b\b\b\b\b\b\b\b\b\b\b\b\b\b\b\b\b\b\b\b\b\b\b\b\b\b\b\b\b\b\b\b\b\b\b\b\b\b\b\b\b\b\b\b\b\b\b\b\b\b\b\b\b\b\b\b\b\b\b\b\b\b\b\b\b\b\b\b",
      "\r36/57 [=================>............] - ETA: 1s - loss: 5.3077 - accuracy: 0.2229",
      "\b\b\b\b\b\b\b\b\b\b\b\b\b\b\b\b\b\b\b\b\b\b\b\b\b\b\b\b\b\b\b\b\b\b\b\b\b\b\b\b\b\b\b\b\b\b\b\b\b\b\b\b\b\b\b\b\b\b\b\b\b\b\b\b\b\b\b\b\b\b\b\b\b\b\b\b\b\b\b\b\b\b\r37/57 [==================>...........] - ETA: 1s - loss: 5.3082 - accuracy: 0.2229",
      "\b\b\b\b\b\b\b\b\b\b\b\b\b\b\b\b\b\b\b\b\b\b\b\b\b\b\b\b\b\b\b\b\b\b\b\b\b\b\b\b\b\b\b\b\b\b\b\b\b\b\b\b\b\b\b\b\b\b\b\b\b\b\b\b\b\b\b\b\b\b\b\b\b\b\b\b\b\b\b\b\b\b\r39/57 [===================>..........] - ETA: 0s - loss: 5.3086 - accuracy: 0.2230",
      "\b\b\b\b\b\b\b\b\b\b\b\b\b\b\b\b\b\b\b\b\b\b\b\b\b\b\b\b\b\b\b\b\b\b\b\b\b\b\b\b\b\b\b\b\b\b\b\b\b\b\b\b\b\b\b\b\b\b\b\b\b\b\b\b\b\b\b\b\b\b\b\b\b\b\b\b\b\b\b\b\b\b",
      "\r40/57 [====================>.........] - ETA: 0s - loss: 5.3089 - accuracy: 0.2230",
      "\b\b\b\b\b\b\b\b\b\b\b\b\b\b\b\b\b\b\b\b\b\b\b\b\b\b\b\b\b\b\b\b\b\b\b\b\b\b\b\b\b\b\b\b\b\b\b\b\b\b\b\b\b\b\b\b\b\b\b\b\b\b\b\b\b\b\b\b\b\b\b\b\b\b\b\b\b\b\b\b\b\b\r41/57 [====================>.........] - ETA: 0s - loss: 5.3093 - accuracy: 0.2230",
      "\b\b\b\b\b\b\b\b\b\b\b\b\b\b\b\b\b\b\b\b\b\b\b\b\b\b\b\b\b\b\b\b\b\b\b\b\b\b\b\b\b\b\b\b\b\b\b\b\b\b\b\b\b\b\b\b\b\b\b\b\b\b\b\b\b\b\b\b\b\b\b\b\b\b\b\b\b\b\b\b\b\b",
      "\r42/57 [=====================>........] - ETA: 0s - loss: 5.3096 - accuracy: 0.2230",
      "\b\b\b\b\b\b\b\b\b\b\b\b\b\b\b\b\b\b\b\b\b\b\b\b\b\b\b\b\b\b\b\b\b\b\b\b\b\b\b\b\b\b\b\b\b\b\b\b\b\b\b\b\b\b\b\b\b\b\b\b\b\b\b\b\b\b\b\b\b\b\b\b\b\b\b\b\b\b\b\b\b\b",
      "\r43/57 [=====================>........] - ETA: 0s - loss: 5.3096 - accuracy: 0.2230",
      "\b\b\b\b\b\b\b\b\b\b\b\b\b\b\b\b\b\b\b\b\b\b\b\b\b\b\b\b\b\b\b\b\b\b\b\b\b\b\b\b\b\b\b\b\b\b\b\b\b\b\b\b\b\b\b\b\b\b\b\b\b\b\b\b\b\b\b\b\b\b\b\b\b\b\b\b\b\b\b\b\b\b\r45/57 [======================>.......] - ETA: 0s - loss: 5.3093 - accuracy: 0.2231",
      "\b\b\b\b\b\b\b\b\b\b\b\b\b\b\b\b\b\b\b\b\b\b\b\b\b\b\b\b\b\b\b\b\b\b\b\b\b\b\b\b\b\b\b\b\b\b\b\b\b\b\b\b\b\b\b\b\b\b\b\b\b\b\b\b\b\b\b\b\b\b\b\b\b\b\b\b\b\b\b\b\b\b",
      "\r46/57 [=======================>......] - ETA: 0s - loss: 5.3087 - accuracy: 0.2232",
      "\b\b\b\b\b\b\b\b\b\b\b\b\b\b\b\b\b\b\b\b\b\b\b\b\b\b\b\b\b\b\b\b\b\b\b\b\b\b\b\b\b\b\b\b\b\b\b\b\b\b\b\b\b\b\b\b\b\b\b\b\b\b\b\b\b\b\b\b\b\b\b\b\b\b\b\b\b\b\b\b\b\b",
      "\r47/57 [=======================>......] - ETA: 0s - loss: 5.3084 - accuracy: 0.2232",
      "\b\b\b\b\b\b\b\b\b\b\b\b\b\b\b\b\b\b\b\b\b\b\b\b\b\b\b\b\b\b\b\b\b\b\b\b\b\b\b\b\b\b\b\b\b\b\b\b\b\b\b\b\b\b\b\b\b\b\b\b\b\b\b\b\b\b\b\b\b\b\b\b\b\b\b\b\b\b\b\b\b\b\r49/57 [========================>.....] - ETA: 0s - loss: 5.3082 - accuracy: 0.2233",
      "\b\b\b\b\b\b\b\b\b\b\b\b\b\b\b\b\b\b\b\b\b\b\b\b\b\b\b\b\b\b\b\b\b\b\b\b\b\b\b\b\b\b\b\b\b\b\b\b\b\b\b\b\b\b\b\b\b\b\b\b\b\b\b\b\b\b\b\b\b\b\b\b\b\b\b\b\b\b\b\b\b\b\r50/57 [=========================>....] - ETA: 0s - loss: 5.3079 - accuracy: 0.2234",
      "\b\b\b\b\b\b\b\b\b\b\b\b\b\b\b\b\b\b\b\b\b\b\b\b\b\b\b\b\b\b\b\b\b\b\b\b\b\b\b\b\b\b\b\b\b\b\b\b\b\b\b\b\b\b\b\b\b\b\b\b\b\b\b\b\b\b\b\b\b\b\b\b\b\b\b\b\b\b\b\b\b\b",
      "\r51/57 [=========================>....] - ETA: 0s - loss: 5.3078 - accuracy: 0.2234",
      "\b\b\b\b\b\b\b\b\b\b\b\b\b\b\b\b\b\b\b\b\b\b\b\b\b\b\b\b\b\b\b\b\b\b\b\b\b\b\b\b\b\b\b\b\b\b\b\b\b\b\b\b\b\b\b\b\b\b\b\b\b\b\b\b\b\b\b\b\b\b\b\b\b\b\b\b\b\b\b\b\b\b\r52/57 [==========================>...] - ETA: 0s - loss: 5.3078 - accuracy: 0.2235",
      "\b\b\b\b\b\b\b\b\b\b\b\b\b\b\b\b\b\b\b\b\b\b\b\b\b\b\b\b\b\b\b\b\b\b\b\b\b\b\b\b\b\b\b\b\b\b\b\b\b\b\b\b\b\b\b\b\b\b\b\b\b\b\b\b\b\b\b\b\b\b\b\b\b\b\b\b\b\b\b\b\b\b\r53/57 [==========================>...] - ETA: 0s - loss: 5.3077 - accuracy: 0.2235",
      "\b\b\b\b\b\b\b\b\b\b\b\b\b\b\b\b\b\b\b\b\b\b\b\b\b\b\b\b\b\b\b\b\b\b\b\b\b\b\b\b\b\b\b\b\b\b\b\b\b\b\b\b\b\b\b\b\b\b\b\b\b\b\b\b\b\b\b\b\b\b\b\b\b\b\b\b\b\b\b\b\b\b",
      "\r54/57 [===========================>..] - ETA: 0s - loss: 5.3077 - accuracy: 0.2235",
      "\b\b\b\b\b\b\b\b\b\b\b\b\b\b\b\b\b\b\b\b\b\b\b\b\b\b\b\b\b\b\b\b\b\b\b\b\b\b\b\b\b\b\b\b\b\b\b\b\b\b\b\b\b\b\b\b\b\b\b\b\b\b\b\b\b\b\b\b\b\b\b\b\b\b\b\b\b\b\b\b\b\b\r56/57 [============================>.] - ETA: 0s - loss: 5.3076 - accuracy: 0.2235",
      "\b\b\b\b\b\b\b\b\b\b\b\b\b\b\b\b\b\b\b\b\b\b\b\b\b\b\b\b\b\b\b\b\b\b\b\b\b\b\b\b\b\b\b\b\b\b\b\b\b\b\b\b\b\b\b\b\b\b\b\b\b\b\b\b\b\b\b\b\b\b\b\b\b\b\b\b\b\b\b\b\b\b\r57/57 [==============================] - 3s 53ms/step - loss: 5.3074 - accuracy: 0.2236\n",
      "Epoch 3/3\n",
      "\r 1/57 [..............................] - ETA: 3s - loss: 5.2105 - accuracy: 0.2578",
      "\b\b\b\b\b\b\b\b\b\b\b\b\b\b\b\b\b\b\b\b\b\b\b\b\b\b\b\b\b\b\b\b\b\b\b\b\b\b\b\b\b\b\b\b\b\b\b\b\b\b\b\b\b\b\b\b\b\b\b\b\b\b\b\b\b\b\b\b\b\b\b\b\b\b\b\b\b\b\b\b\b\b\r 2/57 [>.............................] - ETA: 3s - loss: 5.1825 - accuracy: 0.2539",
      "\b\b\b\b\b\b\b\b\b\b\b\b\b\b\b\b\b\b\b\b\b\b\b\b\b\b\b\b\b\b\b\b\b\b\b\b\b\b\b\b\b\b\b\b\b\b\b\b\b\b\b\b\b\b\b\b\b\b\b\b\b\b\b\b\b\b\b\b\b\b\b\b\b\b\b\b\b\b\b\b\b\b\r 3/57 [>.............................] - ETA: 3s - loss: 5.1898 - accuracy: 0.2457",
      "\b\b\b\b\b\b\b\b\b\b\b\b\b\b\b\b\b\b\b\b\b\b\b\b\b\b\b\b\b\b\b\b\b\b\b\b\b\b\b\b\b\b\b\b\b\b\b\b\b\b\b\b\b\b\b\b\b\b\b\b\b\b\b\b\b\b\b\b\b\b\b\b\b\b\b\b\b\b\b\b\b\b\r 5/57 [=>............................] - ETA: 3s - loss: 5.1655 - accuracy: 0.2414",
      "\b\b\b\b\b\b\b\b\b\b\b\b\b\b\b\b\b\b\b\b\b\b\b\b\b\b\b\b\b\b\b\b\b\b\b\b\b\b\b\b\b\b\b\b\b\b\b\b\b\b\b\b\b\b\b\b\b\b\b\b\b\b\b\b\b\b\b\b\b\b\b\b\b\b\b\b\b\b\b\b\b\b\r 6/57 [==>...........................] - ETA: 3s - loss: 5.1634 - accuracy: 0.2396",
      "\b\b\b\b\b\b\b\b\b\b\b\b\b\b\b\b\b\b\b\b\b\b\b\b\b\b\b\b\b\b\b\b\b\b\b\b\b\b\b\b\b\b\b\b\b\b\b\b\b\b\b\b\b\b\b\b\b\b\b\b\b\b\b\b\b\b\b\b\b\b\b\b\b\b\b\b\b\b\b\b\b\b\r 8/57 [===>..........................] - ETA: 2s - loss: 5.1727 - accuracy: 0.2354",
      "\b\b\b\b\b\b\b\b\b\b\b\b\b\b\b\b\b\b\b\b\b\b\b\b\b\b\b\b\b\b\b\b\b\b\b\b\b\b\b\b\b\b\b\b\b\b\b\b\b\b\b\b\b\b\b\b\b\b\b\b\b\b\b\b\b\b\b\b\b\b\b\b\b\b\b\b\b\b\b\b\b\b",
      "\r10/57 [====>.........................] - ETA: 2s - loss: 5.1741 - accuracy: 0.2342",
      "\b\b\b\b\b\b\b\b\b\b\b\b\b\b\b\b\b\b\b\b\b\b\b\b\b\b\b\b\b\b\b\b\b\b\b\b\b\b\b\b\b\b\b\b\b\b\b\b\b\b\b\b\b\b\b\b\b\b\b\b\b\b\b\b\b\b\b\b\b\b\b\b\b\b\b\b\b\b\b\b\b\b\r11/57 [====>.........................] - ETA: 2s - loss: 5.1738 - accuracy: 0.2338",
      "\b\b\b\b\b\b\b\b\b\b\b\b\b\b\b\b\b\b\b\b\b\b\b\b\b\b\b\b\b\b\b\b\b\b\b\b\b\b\b\b\b\b\b\b\b\b\b\b\b\b\b\b\b\b\b\b\b\b\b\b\b\b\b\b\b\b\b\b\b\b\b\b\b\b\b\b\b\b\b\b\b\b\r13/57 [=====>........................] - ETA: 2s - loss: 5.1732 - accuracy: 0.2331",
      "\b\b\b\b\b\b\b\b\b\b\b\b\b\b\b\b\b\b\b\b\b\b\b\b\b\b\b\b\b\b\b\b\b\b\b\b\b\b\b\b\b\b\b\b\b\b\b\b\b\b\b\b\b\b\b\b\b\b\b\b\b\b\b\b\b\b\b\b\b\b\b\b\b\b\b\b\b\b\b\b\b\b",
      "\r14/57 [======>.......................] - ETA: 2s - loss: 5.1732 - accuracy: 0.2329",
      "\b\b\b\b\b\b\b\b\b\b\b\b\b\b\b\b\b\b\b\b\b\b\b\b\b\b\b\b\b\b\b\b\b\b\b\b\b\b\b\b\b\b\b\b\b\b\b\b\b\b\b\b\b\b\b\b\b\b\b\b\b\b\b\b\b\b\b\b\b\b\b\b\b\b\b\b\b\b\b\b\b\b\r15/57 [======>.......................] - ETA: 2s - loss: 5.1718 - accuracy: 0.2329",
      "\b\b\b\b\b\b\b\b\b\b\b\b\b\b\b\b\b\b\b\b\b\b\b\b\b\b\b\b\b\b\b\b\b\b\b\b\b\b\b\b\b\b\b\b\b\b\b\b\b\b\b\b\b\b\b\b\b\b\b\b\b\b\b\b\b\b\b\b\b\b\b\b\b\b\b\b\b\b\b\b\b\b",
      "\r16/57 [=======>......................] - ETA: 2s - loss: 5.1708 - accuracy: 0.2328",
      "\b\b\b\b\b\b\b\b\b\b\b\b\b\b\b\b\b\b\b\b\b\b\b\b\b\b\b\b\b\b\b\b\b\b\b\b\b\b\b\b\b\b\b\b\b\b\b\b\b\b\b\b\b\b\b\b\b\b\b\b\b\b\b\b\b\b\b\b\b\b\b\b\b\b\b\b\b\b\b\b\b\b",
      "\r17/57 [=======>......................] - ETA: 2s - loss: 5.1691 - accuracy: 0.2329",
      "\b\b\b\b\b\b\b\b\b\b\b\b\b\b\b\b\b\b\b\b\b\b\b\b\b\b\b\b\b\b\b\b\b\b\b\b\b\b\b\b\b\b\b\b\b\b\b\b\b\b\b\b\b\b\b\b\b\b\b\b\b\b\b\b\b\b\b\b\b\b\b\b\b\b\b\b\b\b\b\b\b\b",
      "\r18/57 [========>.....................] - ETA: 2s - loss: 5.1679 - accuracy: 0.2330",
      "\b\b\b\b\b\b\b\b\b\b\b\b\b\b\b\b\b\b\b\b\b\b\b\b\b\b\b\b\b\b\b\b\b\b\b\b\b\b\b\b\b\b\b\b\b\b\b\b\b\b\b\b\b\b\b\b\b\b\b\b\b\b\b\b\b\b\b\b\b\b\b\b\b\b\b\b\b\b\b\b\b\b",
      "\r19/57 [=========>....................] - ETA: 2s - loss: 5.1686 - accuracy: 0.2328",
      "\b\b\b\b\b\b\b\b\b\b\b\b\b\b\b\b\b\b\b\b\b\b\b\b\b\b\b\b\b\b\b\b\b\b\b\b\b\b\b\b\b\b\b\b\b\b\b\b\b\b\b\b\b\b\b\b\b\b\b\b\b\b\b\b\b\b\b\b\b\b\b\b\b\b\b\b\b\b\b\b\b\b",
      "\r20/57 [=========>....................] - ETA: 2s - loss: 5.1689 - accuracy: 0.2328",
      "\b\b\b\b\b\b\b\b\b\b\b\b\b\b\b\b\b\b\b\b\b\b\b\b\b\b\b\b\b\b\b\b\b\b\b\b\b\b\b\b\b\b\b\b\b\b\b\b\b\b\b\b\b\b\b\b\b\b\b\b\b\b\b\b\b\b\b\b\b\b\b\b\b\b\b\b\b\b\b\b\b\b\r21/57 [==========>...................] - ETA: 2s - loss: 5.1700 - accuracy: 0.2325",
      "\b\b\b\b\b\b\b\b\b\b\b\b\b\b\b\b\b\b\b\b\b\b\b\b\b\b\b\b\b\b\b\b\b\b\b\b\b\b\b\b\b\b\b\b\b\b\b\b\b\b\b\b\b\b\b\b\b\b\b\b\b\b\b\b\b\b\b\b\b\b\b\b\b\b\b\b\b\b\b\b\b\b",
      "\r23/57 [===========>..................] - ETA: 1s - loss: 5.1728 - accuracy: 0.2319",
      "\b\b\b\b\b\b\b\b\b\b\b\b\b\b\b\b\b\b\b\b\b\b\b\b\b\b\b\b\b\b\b\b\b\b\b\b\b\b\b\b\b\b\b\b\b\b\b\b\b\b\b\b\b\b\b\b\b\b\b\b\b\b\b\b\b\b\b\b\b\b\b\b\b\b\b\b\b\b\b\b\b\b\r25/57 [============>.................] - ETA: 1s - loss: 5.1759 - accuracy: 0.2314",
      "\b\b\b\b\b\b\b\b\b\b\b\b\b\b\b\b\b\b\b\b\b\b\b\b\b\b\b\b\b\b\b\b\b\b\b\b\b\b\b\b\b\b\b\b\b\b\b\b\b\b\b\b\b\b\b\b\b\b\b\b\b\b\b\b\b\b\b\b\b\b\b\b\b\b\b\b\b\b\b\b\b\b\r27/57 [=============>................] - ETA: 1s - loss: 5.1789 - accuracy: 0.2310",
      "\b\b\b\b\b\b\b\b\b\b\b\b\b\b\b\b\b\b\b\b\b\b\b\b\b\b\b\b\b\b\b\b\b\b\b\b\b\b\b\b\b\b\b\b\b\b\b\b\b\b\b\b\b\b\b\b\b\b\b\b\b\b\b\b\b\b\b\b\b\b\b\b\b\b\b\b\b\b\b\b\b\b\r28/57 [=============>................] - ETA: 1s - loss: 5.1797 - accuracy: 0.2309",
      "\b\b\b\b\b\b\b\b\b\b\b\b\b\b\b\b\b\b\b\b\b\b\b\b\b\b\b\b\b\b\b\b\b\b\b\b\b\b\b\b\b\b\b\b\b\b\b\b\b\b\b\b\b\b\b\b\b\b\b\b\b\b\b\b\b\b\b\b\b\b\b\b\b\b\b\b\b\b\b\b\b\b\r30/57 [==============>...............] - ETA: 1s - loss: 5.1808 - accuracy: 0.2308",
      "\b\b\b\b\b\b\b\b\b\b\b\b\b\b\b\b\b\b\b\b\b\b\b\b\b\b\b\b\b\b\b\b\b\b\b\b\b\b\b\b\b\b\b\b\b\b\b\b\b\b\b\b\b\b\b\b\b\b\b\b\b\b\b\b\b\b\b\b\b\b\b\b\b\b\b\b\b\b\b\b\b\b\r32/57 [===============>..............] - ETA: 1s - loss: 5.1826 - accuracy: 0.2305",
      "\b\b\b\b\b\b\b\b\b\b\b\b\b\b\b\b\b\b\b\b\b\b\b\b\b\b\b\b\b\b\b\b\b\b\b\b\b\b\b\b\b\b\b\b\b\b\b\b\b\b\b\b\b\b\b\b\b\b\b\b\b\b\b\b\b\b\b\b\b\b\b\b\b\b\b\b\b\b\b\b\b\b\r34/57 [================>.............] - ETA: 1s - loss: 5.1849 - accuracy: 0.2301",
      "\b\b\b\b\b\b\b\b\b\b\b\b\b\b\b\b\b\b\b\b\b\b\b\b\b\b\b\b\b\b\b\b\b\b\b\b\b\b\b\b\b\b\b\b\b\b\b\b\b\b\b\b\b\b\b\b\b\b\b\b\b\b\b\b\b\b\b\b\b\b\b\b\b\b\b\b\b\b\b\b\b\b\r36/57 [=================>............] - ETA: 1s - loss: 5.1870 - accuracy: 0.2298",
      "\b\b\b\b\b\b\b\b\b\b\b\b\b\b\b\b\b\b\b\b\b\b\b\b\b\b\b\b\b\b\b\b\b\b\b\b\b\b\b\b\b\b\b\b\b\b\b\b\b\b\b\b\b\b\b\b\b\b\b\b\b\b\b\b\b\b\b\b\b\b\b\b\b\b\b\b\b\b\b\b\b\b\r38/57 [===================>..........] - ETA: 0s - loss: 5.1888 - accuracy: 0.2294",
      "\b\b\b\b\b\b\b\b\b\b\b\b\b\b\b\b\b\b\b\b\b\b\b\b\b\b\b\b\b\b\b\b\b\b\b\b\b\b\b\b\b\b\b\b\b\b\b\b\b\b\b\b\b\b\b\b\b\b\b\b\b\b\b\b\b\b\b\b\b\b\b\b\b\b\b\b\b\b\b\b\b\b\r40/57 [====================>.........] - ETA: 0s - loss: 5.1907 - accuracy: 0.2291",
      "\b\b\b\b\b\b\b\b\b\b\b\b\b\b\b\b\b\b\b\b\b\b\b\b\b\b\b\b\b\b\b\b\b\b\b\b\b\b\b\b\b\b\b\b\b\b\b\b\b\b\b\b\b\b\b\b\b\b\b\b\b\b\b\b\b\b\b\b\b\b\b\b\b\b\b\b\b\b\b\b\b\b\r42/57 [=====================>........] - ETA: 0s - loss: 5.1927 - accuracy: 0.2288",
      "\b\b\b\b\b\b\b\b\b\b\b\b\b\b\b\b\b\b\b\b\b\b\b\b\b\b\b\b\b\b\b\b\b\b\b\b\b\b\b\b\b\b\b\b\b\b\b\b\b\b\b\b\b\b\b\b\b\b\b\b\b\b\b\b\b\b\b\b\b\b\b\b\b\b\b\b\b\b\b\b\b\b\r43/57 [=====================>........] - ETA: 0s - loss: 5.1940 - accuracy: 0.2286",
      "\b\b\b\b\b\b\b\b\b\b\b\b\b\b\b\b\b\b\b\b\b\b\b\b\b\b\b\b\b\b\b\b\b\b\b\b\b\b\b\b\b\b\b\b\b\b\b\b\b\b\b\b\b\b\b\b\b\b\b\b\b\b\b\b\b\b\b\b\b\b\b\b\b\b\b\b\b\b\b\b\b\b\r44/57 [======================>.......] - ETA: 0s - loss: 5.1952 - accuracy: 0.2285",
      "\b\b\b\b\b\b\b\b\b\b\b\b\b\b\b\b\b\b\b\b\b\b\b\b\b\b\b\b\b\b\b\b\b\b\b\b\b\b\b\b\b\b\b\b\b\b\b\b\b\b\b\b\b\b\b\b\b\b\b\b\b\b\b\b\b\b\b\b\b\b\b\b\b\b\b\b\b\b\b\b\b\b",
      "\r46/57 [=======================>......] - ETA: 0s - loss: 5.1978 - accuracy: 0.2282",
      "\b\b\b\b\b\b\b\b\b\b\b\b\b\b\b\b\b\b\b\b\b\b\b\b\b\b\b\b\b\b\b\b\b\b\b\b\b\b\b\b\b\b\b\b\b\b\b\b\b\b\b\b\b\b\b\b\b\b\b\b\b\b\b\b\b\b\b\b\b\b\b\b\b\b\b\b\b\b\b\b\b\b",
      "\r47/57 [=======================>......] - ETA: 0s - loss: 5.1992 - accuracy: 0.2280",
      "\b\b\b\b\b\b\b\b\b\b\b\b\b\b\b\b\b\b\b\b\b\b\b\b\b\b\b\b\b\b\b\b\b\b\b\b\b\b\b\b\b\b\b\b\b\b\b\b\b\b\b\b\b\b\b\b\b\b\b\b\b\b\b\b\b\b\b\b\b\b\b\b\b\b\b\b\b\b\b\b\b\b",
      "\r48/57 [========================>.....] - ETA: 0s - loss: 5.2003 - accuracy: 0.2279",
      "\b\b\b\b\b\b\b\b\b\b\b\b\b\b\b\b\b\b\b\b\b\b\b\b\b\b\b\b\b\b\b\b\b\b\b\b\b\b\b\b\b\b\b\b\b\b\b\b\b\b\b\b\b\b\b\b\b\b\b\b\b\b\b\b\b\b\b\b\b\b\b\b\b\b\b\b\b\b\b\b\b\b",
      "\r50/57 [=========================>....] - ETA: 0s - loss: 5.2026 - accuracy: 0.2277",
      "\b\b\b\b\b\b\b\b\b\b\b\b\b\b\b\b\b\b\b\b\b\b\b\b\b\b\b\b\b\b\b\b\b\b\b\b\b\b\b\b\b\b\b\b\b\b\b\b\b\b\b\b\b\b\b\b\b\b\b\b\b\b\b\b\b\b\b\b\b\b\b\b\b\b\b\b\b\b\b\b\b\b",
      "\r52/57 [==========================>...] - ETA: 0s - loss: 5.2046 - accuracy: 0.2274",
      "\b\b\b\b\b\b\b\b\b\b\b\b\b\b\b\b\b\b\b\b\b\b\b\b\b\b\b\b\b\b\b\b\b\b\b\b\b\b\b\b\b\b\b\b\b\b\b\b\b\b\b\b\b\b\b\b\b\b\b\b\b\b\b\b\b\b\b\b\b\b\b\b\b\b\b\b\b\b\b\b\b\b\r54/57 [===========================>..] - ETA: 0s - loss: 5.2060 - accuracy: 0.2273",
      "\b\b\b\b\b\b\b\b\b\b\b\b\b\b\b\b\b\b\b\b\b\b\b\b\b\b\b\b\b\b\b\b\b\b\b\b\b\b\b\b\b\b\b\b\b\b\b\b\b\b\b\b\b\b\b\b\b\b\b\b\b\b\b\b\b\b\b\b\b\b\b\b\b\b\b\b\b\b\b\b\b\b",
      "\r56/57 [============================>.] - ETA: 0s - loss: 5.2071 - accuracy: 0.2272",
      "\b\b\b\b\b\b\b\b\b\b\b\b\b\b\b\b\b\b\b\b\b\b\b\b\b\b\b\b\b\b\b\b\b\b\b\b\b\b\b\b\b\b\b\b\b\b\b\b\b\b\b\b\b\b\b\b\b\b\b\b\b\b\b\b\b\b\b\b\b\b\b\b\b\b\b\b\b\b\b\b\b\b\r57/57 [==============================] - 3s 49ms/step - loss: 5.2081 - accuracy: 0.2271\n",
      "\r  1/225 [..............................] - ETA: 3:16 - loss: 5.4838 - accuracy: 0.1875",
      "\b\b\b\b\b\b\b\b\b\b\b\b\b\b\b\b\b\b\b\b\b\b\b\b\b\b\b\b\b\b\b\b\b\b\b\b\b\b\b\b\b\b\b\b\b\b\b\b\b\b\b\b\b\b\b\b\b\b\b\b\b\b\b\b\b\b\b\b\b\b\b\b\b\b\b\b\b\b\b\b\b\b\b\b\b\b\r 11/225 [>.............................] - ETA: 1s - loss: 5.3037 - accuracy: 0.1903  ",
      "\b\b\b\b\b\b\b\b\b\b\b\b\b\b\b\b\b\b\b\b\b\b\b\b\b\b\b\b\b\b\b\b\b\b\b\b\b\b\b\b\b\b\b\b\b\b\b\b\b\b\b\b\b\b\b\b\b\b\b\b\b\b\b\b\b\b\b\b\b\b\b\b\b\b\b\b\b\b\b\b\b\b\b\b\r 21/225 [=>............................] - ETA: 1s - loss: 5.4106 - accuracy: 0.1905",
      "\b\b\b\b\b\b\b\b\b\b\b\b\b\b\b\b\b\b\b\b\b\b\b\b\b\b\b\b\b\b\b\b\b\b\b\b\b\b\b\b\b\b\b\b\b\b\b\b\b\b\b\b\b\b\b\b\b\b\b\b\b\b\b\b\b\b\b\b\b\b\b\b\b\b\b\b\b\b\b\b\b\b\b\b\r 33/225 [===>..........................] - ETA: 0s - loss: 5.3700 - accuracy: 0.1989",
      "\b\b\b\b\b\b\b\b\b\b\b\b\b\b\b\b\b\b\b\b\b\b\b\b\b\b\b\b\b\b\b\b\b\b\b\b\b\b\b\b\b\b\b\b\b\b\b\b\b\b\b\b\b\b\b\b\b\b\b\b\b\b\b\b\b\b\b\b\b\b\b\b\b\b\b\b\b\b\b\b\b\b\b\b\r 45/225 [=====>........................] - ETA: 0s - loss: 5.3097 - accuracy: 0.2049",
      "\b\b\b\b\b\b\b\b\b\b\b\b\b\b\b\b\b\b\b\b\b\b\b\b\b\b\b\b\b\b\b\b\b\b\b\b\b\b\b\b\b\b\b\b\b\b\b\b\b\b\b\b\b\b\b\b\b\b\b\b\b\b\b\b\b\b\b\b\b\b\b\b\b\b\b\b\b\b\b\b\b\b\b\b\r 59/225 [======>.......................] - ETA: 0s - loss: 5.3087 - accuracy: 0.2076",
      "\b\b\b\b\b\b\b\b\b\b\b\b\b\b\b\b\b\b\b\b\b\b\b\b\b\b\b\b\b\b\b\b\b\b\b\b\b\b\b\b\b\b\b\b\b\b\b\b\b\b\b\b\b\b\b\b\b\b\b\b\b\b\b\b\b\b\b\b\b\b\b\b\b\b\b\b\b\b\b\b\b\b\b\b\r 70/225 [========>.....................] - ETA: 0s - loss: 5.2847 - accuracy: 0.2085",
      "\b\b\b\b\b\b\b\b\b\b\b\b\b\b\b\b\b\b\b\b\b\b\b\b\b\b\b\b\b\b\b\b\b\b\b\b\b\b\b\b\b\b\b\b\b\b\b\b\b\b\b\b\b\b\b\b\b\b\b\b\b\b\b\b\b\b\b\b\b\b\b\b\b\b\b\b\b\b\b\b\b\b\b\b\r 80/225 [=========>....................] - ETA: 0s - loss: 5.2534 - accuracy: 0.2125",
      "\b\b\b\b\b\b\b\b\b\b\b\b\b\b\b\b\b\b\b\b\b\b\b\b\b\b\b\b\b\b\b\b\b\b\b\b\b\b\b\b\b\b\b\b\b\b\b\b\b\b\b\b\b\b\b\b\b\b\b\b\b\b\b\b\b\b\b\b\b\b\b\b\b\b\b\b\b\b\b\b\b\b\b\b\r 93/225 [===========>..................] - ETA: 0s - loss: 5.2389 - accuracy: 0.2127",
      "\b\b\b\b\b\b\b\b\b\b\b\b\b\b\b\b\b\b\b\b\b\b\b\b\b\b\b\b\b\b\b\b\b\b\b\b\b\b\b\b\b\b\b\b\b\b\b\b\b\b\b\b\b\b\b\b\b\b\b\b\b\b\b\b\b\b\b\b\b\b\b\b\b\b\b\b\b\b\b\b\b\b\b\b\r106/225 [=============>................] - ETA: 0s - loss: 5.2090 - accuracy: 0.2149",
      "\b\b\b\b\b\b\b\b\b\b\b\b\b\b\b\b\b\b\b\b\b\b\b\b\b\b\b\b\b\b\b\b\b\b\b\b\b\b\b\b\b\b\b\b\b\b\b\b\b\b\b\b\b\b\b\b\b\b\b\b\b\b\b\b\b\b\b\b\b\b\b\b\b\b\b\b\b\b\b\b\b\b\b\b\r120/225 [===============>..............] - ETA: 0s - loss: 5.2044 - accuracy: 0.2159",
      "\b\b\b\b\b\b\b\b\b\b\b\b\b\b\b\b\b\b\b\b\b\b\b\b\b\b\b\b\b\b\b\b\b\b\b\b\b\b\b\b\b\b\b\b\b\b\b\b\b\b\b\b\b\b\b\b\b\b\b\b\b\b\b\b\b\b\b\b\b\b\b\b\b\b\b\b\b\b\b\b\b\b\b\b\r133/225 [================>.............] - ETA: 0s - loss: 5.1942 - accuracy: 0.2183",
      "\b\b\b\b\b\b\b\b\b\b\b\b\b\b\b\b\b\b\b\b\b\b\b\b\b\b\b\b\b\b\b\b\b\b\b\b\b\b\b\b\b\b\b\b\b\b\b\b\b\b\b\b\b\b\b\b\b\b\b\b\b\b\b\b\b\b\b\b\b\b\b\b\b\b\b\b\b\b\b\b\b\b\b\b\r145/225 [==================>...........] - ETA: 0s - loss: 5.1848 - accuracy: 0.2192",
      "\b\b\b\b\b\b\b\b\b\b\b\b\b\b\b\b\b\b\b\b\b\b\b\b\b\b\b\b\b\b\b\b\b\b\b\b\b\b\b\b\b\b\b\b\b\b\b\b\b\b\b\b\b\b\b\b\b\b\b\b\b\b\b\b\b\b\b\b\b\b\b\b\b\b\b\b\b\b\b\b\b\b\b\b",
      "\r157/225 [===================>..........] - ETA: 0s - loss: 5.1737 - accuracy: 0.2203",
      "\b\b\b\b\b\b\b\b\b\b\b\b\b\b\b\b\b\b\b\b\b\b\b\b\b\b\b\b\b\b\b\b\b\b\b\b\b\b\b\b\b\b\b\b\b\b\b\b\b\b\b\b\b\b\b\b\b\b\b\b\b\b\b\b\b\b\b\b\b\b\b\b\b\b\b\b\b\b\b\b\b\b\b\b\r168/225 [=====================>........] - ETA: 0s - loss: 5.1720 - accuracy: 0.2204",
      "\b\b\b\b\b\b\b\b\b\b\b\b\b\b\b\b\b\b\b\b\b\b\b\b\b\b\b\b\b\b\b\b\b\b\b\b\b\b\b\b\b\b\b\b\b\b\b\b\b\b\b\b\b\b\b\b\b\b\b\b\b\b\b\b\b\b\b\b\b\b\b\b\b\b\b\b\b\b\b\b\b\b\b\b\r180/225 [=======================>......] - ETA: 0s - loss: 5.1689 - accuracy: 0.2208",
      "\b\b\b\b\b\b\b\b\b\b\b\b\b\b\b\b\b\b\b\b\b\b\b\b\b\b\b\b\b\b\b\b\b\b\b\b\b\b\b\b\b\b\b\b\b\b\b\b\b\b\b\b\b\b\b\b\b\b\b\b\b\b\b\b\b\b\b\b\b\b\b\b\b\b\b\b\b\b\b\b\b\b\b\b\r190/225 [========================>.....] - ETA: 0s - loss: 5.1659 - accuracy: 0.2212",
      "\b\b\b\b\b\b\b\b\b\b\b\b\b\b\b\b\b\b\b\b\b\b\b\b\b\b\b\b\b\b\b\b\b\b\b\b\b\b\b\b\b\b\b\b\b\b\b\b\b\b\b\b\b\b\b\b\b\b\b\b\b\b\b\b\b\b\b\b\b\b\b\b\b\b\b\b\b\b\b\b\b\b\b\b\r201/225 [=========================>....] - ETA: 0s - loss: 5.1605 - accuracy: 0.2228",
      "\b\b\b\b\b\b\b\b\b\b\b\b\b\b\b\b\b\b\b\b\b\b\b\b\b\b\b\b\b\b\b\b\b\b\b\b\b\b\b\b\b\b\b\b\b\b\b\b\b\b\b\b\b\b\b\b\b\b\b\b\b\b\b\b\b\b\b\b\b\b\b\b\b\b\b\b\b\b\b\b\b\b\b\b\r212/225 [===========================>..] - ETA: 0s - loss: 5.1578 - accuracy: 0.2236",
      "\b\b\b\b\b\b\b\b\b\b\b\b\b\b\b\b\b\b\b\b\b\b\b\b\b\b\b\b\b\b\b\b\b\b\b\b\b\b\b\b\b\b\b\b\b\b\b\b\b\b\b\b\b\b\b\b\b\b\b\b\b\b\b\b\b\b\b\b\b\b\b\b\b\b\b\b\b\b\b\b\b\b\b\b\r223/225 [============================>.] - ETA: 0s - loss: 5.1543 - accuracy: 0.2244",
      "\b\b\b\b\b\b\b\b\b\b\b\b\b\b\b\b\b\b\b\b\b\b\b\b\b\b\b\b\b\b\b\b\b\b\b\b\b\b\b\b\b\b\b\b\b\b\b\b\b\b\b\b\b\b\b\b\b\b\b\b\b\b\b\b\b\b\b\b\b\b\b\b\b\b\b\b\b\b\b\b\b\b\b\b\r225/225 [==============================] - 2s 5ms/step - loss: 5.1544 - accuracy: 0.2245\n"
     ],
     "output_type": "stream"
    }
   ],
   "source": [
    "model = build_model(parameters.epochs, parameters.max_features, X, Y)"
   ],
   "metadata": {
    "collapsed": false,
    "pycharm": {
     "name": "#%%\n",
     "is_executing": false
    }
   }
  },
  {
   "cell_type": "code",
   "execution_count": 7,
   "outputs": [
    {
     "data": {
      "text/plain": "<tensorflow.python.keras.engine.sequential.Sequential at 0x14e0475e648>"
     },
     "metadata": {},
     "output_type": "execute_result",
     "execution_count": 7
    }
   ],
   "source": [
    "model"
   ],
   "metadata": {
    "collapsed": false,
    "pycharm": {
     "name": "#%%\n",
     "is_executing": false
    }
   }
  },
  {
   "cell_type": "markdown",
   "source": [
    "Text Generation"
   ],
   "metadata": {
    "collapsed": false
   }
  },
  {
   "cell_type": "code",
   "source": [
    "idx_to_words= create_idx_to_words(tokenizer)\n",
    "\n"
   ],
   "metadata": {
    "collapsed": false,
    "pycharm": {
     "name": "#%%\n",
     "is_executing": false
    }
   },
   "execution_count": 8,
   "outputs": []
  },
  {
   "cell_type": "code",
   "execution_count": 9,
   "outputs": [
    {
     "name": "stdout",
     "text": [
      "pred_idx:  2 pred_word:  ■\nreturn sent:  ÷\n"
     ],
     "output_type": "stream"
    },
    {
     "data": {
      "text/plain": "''"
     },
     "metadata": {},
     "output_type": "execute_result",
     "execution_count": 9
    }
   ],
   "source": [
    "text = generate_text(parameters.start, model, idx_to_words, tokenizer, parameters.max_len, temp=0.01)\n",
    "text[2:] # the first two elements are '÷ '"
   ],
   "metadata": {
    "collapsed": false,
    "pycharm": {
     "name": "#%%\n",
     "is_executing": false
    }
   }
  },
  {
   "cell_type": "code",
   "execution_count": 10,
   "outputs": [
    {
     "name": "stdout",
     "text": [
      "pred_idx:  303 pred_word:  loss\npred_idx:  22 pred_word:  fire\npred_idx: ",
      " 2 pred_word:  ■\nreturn sent:  ÷ loss fire\n"
     ],
     "output_type": "stream"
    },
    {
     "data": {
      "text/plain": "'loss fire'"
     },
     "metadata": {},
     "output_type": "execute_result",
     "execution_count": 10
    }
   ],
   "source": [
    "text = generate_text(parameters.start, model, idx_to_words, tokenizer, parameters.max_len, temp=0.75)\n",
    "text[2:] # the first two elements are '÷ '"
   ],
   "metadata": {
    "collapsed": false,
    "pycharm": {
     "name": "#%%\n",
     "is_executing": false
    }
   }
  },
  {
   "cell_type": "code",
   "execution_count": null,
   "outputs": [
    {
     "name": "stdout",
     "text": [
      "pred_idx:  2 pred_word:  ■\nreturn sent:  ÷\npred_idx:  2 pred_word:  ■\nreturn sent:  ÷\npred_idx:  2 pred_word:  ■\nreturn sent:  ÷\npred_idx:  2 pred_word:  ■\nreturn sent:  ÷\npred_idx:  2 pred_word:  ■\nreturn sent:  ÷\npred_idx: ",
      " 2 pred_word:  ■\nreturn sent:  ÷\npred_idx:  2 pred_word:  ■\nreturn sent:  ÷\npred_idx:  2 pred_word:  ■\nreturn sent:  ÷\npred_idx:  2 pred_word:  ■\nreturn sent:  ÷\npred_idx: ",
      " 2 pred_word:  ■\nreturn sent:  ÷\npred_idx:  2 pred_word:  ■\nreturn sent:  ÷\npred_idx:  2 pred_word:  ■\nreturn sent:  ÷\npred_idx:  2 pred_word:  ■\nreturn sent:  ÷\npred_idx:  2 pred_word:  ■\nreturn sent:  ÷\n",
      "pred_idx:  2 pred_word:  ■\nreturn sent:  ÷\npred_idx:  2 pred_word:  ■\nreturn sent:  ÷\npred_idx:  2 pred_word:  ■\nreturn sent:  ÷\npred_idx:  2 pred_word:  ■\nreturn sent:  ÷\npred_idx:  2 pred_word:  ■\nreturn sent:  ÷\npred_idx: ",
      " 3 pred_word:  to\npred_idx:  2 pred_word:  ■\nreturn sent:  ÷ to\npred_idx:  2 pred_word:  ■\nreturn sent:  ÷\npred_idx:  2 pred_word:  ■\nreturn sent:  ÷\npred_idx:  2 pred_word:  ■\nreturn sent:  ÷\n",
      "pred_idx:  2 pred_word:  ■\nreturn sent:  ÷\npred_idx:  2 pred_word:  ■\nreturn sent:  ÷\npred_idx:  2 pred_word:  ■\nreturn sent:  ÷\npred_idx:  2 pred_word:  ■\nreturn sent:  ÷\npred_idx:  2 pred_word:  ■\nreturn sent:  ÷\n",
      "pred_idx:  2 pred_word:  ■\nreturn sent:  ÷\npred_idx:  2 pred_word:  ■\nreturn sent:  ÷\npred_idx:  2 pred_word:  ■\nreturn sent:  ÷\npred_idx:  2 pred_word:  ■\nreturn sent:  ÷\npred_idx:  2 pred_word:  ■\nreturn sent:  ÷\npred_idx:  2 pred_word:  ■\nreturn sent:  ÷\n",
      "pred_idx:  2 pred_word:  ■\nreturn sent:  ÷\npred_idx:  2 pred_word:  ■\nreturn sent:  ÷\npred_idx:  2 pred_word:  ■\nreturn sent:  ÷\npred_idx:  2 pred_word:  ■\nreturn sent:  ÷\npred_idx:  2 pred_word:  ■\nreturn sent:  ÷\npred_idx:  2 ",
      "pred_word:  ■\nreturn sent:  ÷\npred_idx:  2 pred_word:  ■\nreturn sent:  ÷\npred_idx:  2 pred_word:  ■\nreturn sent:  ÷\npred_idx:  2 pred_word:  ■\nreturn sent:  ÷\n",
      "pred_idx:  2 pred_word:  ■\nreturn sent:  ÷\npred_idx:  2 pred_word:  ■\nreturn sent:  ÷\npred_idx:  2 pred_word:  ■\nreturn sent:  ÷\npred_idx: ",
      " 2 pred_word:  ■\nreturn sent:  ÷\npred_idx:  2 pred_word:  ■\nreturn sent:  ÷\npred_idx:  2 pred_word:  ■\nreturn sent:  ÷\npred_idx:  2 pred_word:  ■\nreturn sent:  ÷\n",
      "pred_idx:  2 pred_word:  ■\nreturn sent:  ÷\npred_idx:  2 pred_word:  ■\nreturn sent:  ÷\npred_idx:  2 pred_word:  ■\nreturn sent:  ÷\npred_idx: ",
      " 2 pred_word:  ■\nreturn sent:  ÷\npred_idx:  2 pred_word:  ■\nreturn sent:  ÷\npred_idx:  2 pred_word:  ■\nreturn sent:  ÷\npred_idx:  2 pred_word:  ■\nreturn sent:  ÷\n",
      "pred_idx:  2 pred_word:  ■\nreturn sent:  ÷\npred_idx:  2 pred_word:  ■\nreturn sent:  ÷\npred_idx:  2 pred_word:  ■\nreturn sent:  ÷\npred_idx:  2 pred_word:  ■\nreturn sent:  ÷\n",
      "pred_idx:  2 pred_word:  ■\nreturn sent:  ÷\npred_idx:  2 pred_word:  ■\nreturn sent:  ÷\npred_idx:  2 pred_word:  ■\nreturn sent:  ÷\npred_idx:  2 pred_word:  ■\nreturn sent:  ÷\npred_idx: ",
      " 2 pred_word:  ■\nreturn sent:  ÷\npred_idx:  2 pred_word:  ■\nreturn sent:  ÷\npred_idx:  2 pred_word:  ■\nreturn sent:  ÷\npred_idx:  2 pred_word:  ■\nreturn sent:  ÷\npred_idx: ",
      " 2 pred_word:  ■\nreturn sent:  ÷\npred_idx:  2 pred_word:  ■\nreturn sent:  ÷\npred_idx:  2 pred_word:  ■\nreturn sent:  ÷\npred_idx:  2 pred_word:  ■\nreturn sent:  ÷\npred_idx:  2 pred_word:  ■\nreturn sent:  ÷\npred_idx:  2 pred_word:  ■",
      "\nreturn sent:  ÷\npred_idx:  2 pred_word:  ■\nreturn sent:  ÷\npred_idx:  3 pred_word:  to\npred_idx:  2 pred_word:  ■\nreturn sent:  ÷ to\npred_idx:  2 pred_word:  ■\nreturn sent:  ÷\n",
      "pred_idx:  2 pred_word:  ■\nreturn sent:  ÷\npred_idx:  3 pred_word:  to\npred_idx:  2 pred_word:  ■\nreturn sent:  ÷ to\npred_idx:  2 pred_word:  ■\nreturn sent:  ÷\npred_idx:  2 pred_word:  ■\nreturn sent:  ÷\npred_idx:  2 pred_word:  ■\nreturn sent:  ÷\n",
      "pred_idx:  2 pred_word:  ■\nreturn sent:  ÷\npred_idx:  2 pred_word:  ■\nreturn sent:  ÷\npred_idx:  2 pred_word:  ■\nreturn sent:  ÷\npred_idx:  2 pred_word:  ■\nreturn sent:  ÷\n",
      "pred_idx:  2 pred_word:  ■\nreturn sent:  ÷\npred_idx:  2 pred_word:  ■\nreturn sent:  ÷\n",
      "pred_idx:  2 pred_word:  ■\nreturn sent:  ÷\npred_idx:  2 pred_word:  ■\nreturn sent:  ÷\n",
      "pred_idx:  2 pred_word:  ■\nreturn sent:  ÷\npred_idx:  2 pred_word:  ■\nreturn sent:  ÷\npred_idx:  2 pred_word:  ■\nreturn sent:  ÷\npred_idx:  2 pred_word:  ■\nreturn sent:  ÷\npred_idx:  2 pred_word:  ■\nreturn sent:  ÷\n",
      "pred_idx:  2 pred_word:  ■\nreturn sent:  ÷\npred_idx:  2 pred_word:  ■\nreturn sent:  ÷\npred_idx:  2 pred_word:  ■\nreturn sent:  ÷\npred_idx:  2 pred_word:  ■\nreturn sent:  ÷\npred_idx:  2 pred_word:  ■\nreturn sent:  ÷\n",
      "pred_idx:  2 pred_word:  ■\nreturn sent:  ÷\npred_idx:  2 pred_word:  ■\nreturn sent:  ÷\npred_idx:  2 pred_word:  ■\nreturn sent:  ÷\npred_idx:  2 pred_word:  ■\nreturn sent:  ÷\npred_idx:  2 pred_word:  ■\nreturn sent:  ÷\npred_idx:  2 pred_word:  ■\nreturn sent:  ÷\n",
      "pred_idx:  2 pred_word:  ■\nreturn sent:  ÷\npred_idx:  2 pred_word:  ■\nreturn sent:  ÷\npred_idx:  2 pred_word:  ■\nreturn sent:  ÷\npred_idx:  2 pred_word:  ■\nreturn sent:  ÷\npred_idx:  2 pred_word:  ■\nreturn sent:  ÷\n",
      "pred_idx:  2 pred_word:  ■\nreturn sent:  ÷\npred_idx:  2 pred_word:  ■\nreturn sent:  ÷\npred_idx:  2 pred_word:  ■\nreturn sent:  ÷\npred_idx:  2 pred_word:  ■\nreturn sent:  ÷\npred_idx:  2 pred_word:  ■\nreturn sent:  ÷\npred_idx:  2 pred_word:  ■\nreturn sent:  ÷\n",
      "pred_idx:  2 pred_word:  ■\nreturn sent:  ÷\npred_idx:  2 pred_word:  ■\nreturn sent:  ÷\npred_idx:  2 pred_word:  ■\nreturn sent:  ÷\npred_idx:  2 pred_word:  ■\nreturn sent:  ÷\npred_idx:  2 pred_word:  ■\nreturn sent:  ÷\npred_idx:  2 pred_word:  ■\nreturn sent:  ÷\n",
      "pred_idx:  2 pred_word:  ■\nreturn sent:  ÷\npred_idx:  2 pred_word:  ■\nreturn sent:  ÷\npred_idx:  2 pred_word:  ■\nreturn sent:  ÷\npred_idx:  2 pred_word:  ■\nreturn sent:  ÷\npred_idx:  2 pred_word:  ■\nreturn sent:  ÷\npred_idx:  2 pred_word:  ■\nreturn sent:  ÷\n",
      "pred_idx:  2 pred_word:  ■\nreturn sent:  ÷\npred_idx:  2 pred_word:  ■\nreturn sent:  ÷\npred_idx:  2 pred_word:  ■\nreturn sent:  ÷\npred_idx:  2 pred_word:  ■\nreturn sent:  ÷\npred_idx:  2 pred_word:  ■\nreturn sent:  ÷\npred_idx:  2 pred_word:  ■\nreturn sent:  ÷\npred_idx:  2 pred_word:  ■\nreturn sent:  ÷\n",
      "pred_idx:  2 pred_word:  ■\nreturn sent:  ÷\npred_idx:  2 pred_word:  ■\nreturn sent:  ÷\npred_idx:  2 pred_word:  ■\nreturn sent:  ÷\npred_idx:  2 pred_word:  ■\nreturn sent:  ÷\npred_idx:  2 pred_word:  ■\nreturn sent:  ÷\n",
      "pred_idx:  2 pred_word:  ■\nreturn sent:  ÷\npred_idx:  2 pred_word:  ■\nreturn sent:  ÷\npred_idx:  2 pred_word:  ■\nreturn sent:  ÷\npred_idx:  2 pred_word:  ■\nreturn sent:  ÷\n",
      "pred_idx:  2 pred_word:  ■\nreturn sent:  ÷\npred_idx:  2 pred_word:  ■\nreturn sent:  ÷\npred_idx:  2 pred_word:  ■\nreturn sent:  ÷\n",
      "pred_idx:  2 pred_word:  ■\nreturn sent:  ÷\npred_idx:  2 pred_word:  ■\nreturn sent:  ÷\n",
      "pred_idx:  2 pred_word:  ■\nreturn sent:  ÷\npred_idx:  2 pred_word:  ■\nreturn sent:  ÷\npred_idx:  2 pred_word:  ■\nreturn sent:  ÷\npred_idx:  2 pred_word:  ■\nreturn sent:  ÷\npred_idx:  2 pred_word:  ■\nreturn sent:  ÷\n",
      "pred_idx:  2 pred_word:  ■\nreturn sent:  ÷\npred_idx: ",
      " 2 pred_word:  ■\nreturn sent:  ÷\npred_idx:  2 pred_word:  ■\nreturn sent:  ÷\npred_idx:  2 pred_word:  ■\nreturn sent:  ÷\npred_idx:  2 pred_word:  ■\nreturn sent:  ÷\npred_idx:  2 pred_word:  ■\nreturn sent:  ÷\n",
      "pred_idx:  2 pred_word:  ■\nreturn sent:  ÷\npred_idx:  2 pred_word:  ■\nreturn sent:  ÷\npred_idx:  2 pred_word:  ■\nreturn sent:  ÷\npred_idx:  2 pred_word:  ■\nreturn sent:  ÷\n",
      "pred_idx:  2 pred_word:  ■\nreturn sent:  ÷\npred_idx:  2 pred_word:  ■\nreturn sent:  ÷\npred_idx:  2 pred_word:  ■\nreturn sent:  ÷\npred_idx:  2 pred_word:  ■\nreturn sent:  ÷\npred_idx:  2 pred_word:  ■\nreturn sent:  ÷\npred_idx:  2 pred_word:  ■\nreturn sent:  ÷\n",
      "pred_idx:  2 pred_word:  ■\nreturn sent:  ÷\npred_idx:  2 pred_word:  ■\nreturn sent:  ÷\npred_idx:  2 pred_word:  ■\nreturn sent:  ÷\npred_idx:  2 pred_word:  ■\nreturn sent:  ÷\npred_idx: ",
      " 2 pred_word:  ■\nreturn sent:  ÷\npred_idx:  2 pred_word:  ■\nreturn sent:  ÷\npred_idx:  2 pred_word:  ■\nreturn sent:  ÷\npred_idx:  2 pred_word:  ■\nreturn sent:  ÷\npred_idx:  2 pred_word:  ■\nreturn sent:  ÷\npred_idx:  2 pred_word:  ■\nreturn sent:  ÷\n",
      "pred_idx:  2 pred_word:  ■\nreturn sent:  ÷\npred_idx:  2 pred_word:  ■\nreturn sent:  ÷\npred_idx:  2 pred_word:  ■\nreturn sent:  ÷\npred_idx:  2 pred_word:  ■\nreturn sent:  ÷\npred_idx:  2 pred_word:  ■\nreturn sent:  ÷\n",
      "pred_idx:  2 pred_word:  ■\nreturn sent:  ÷\npred_idx:  2 pred_word:  ■\nreturn sent:  ÷\npred_idx:  2 pred_word:  ■\nreturn sent:  ÷\npred_idx:  2 pred_word:  ■\nreturn sent:  ÷\npred_idx:  2 pred_word:  ■\nreturn sent:  ÷\npred_idx:  2 pred_word:  ■\nreturn sent:  ÷\n",
      "pred_idx:  2 pred_word:  ■\nreturn sent:  ÷\npred_idx:  2 pred_word:  ■\nreturn sent:  ÷\npred_idx:  2 pred_word:  ■\nreturn sent:  ÷\npred_idx:  2 pred_word:  ■\nreturn sent:  ÷\npred_idx:  2 pred_word:  ■\nreturn sent:  ÷\npred_idx:  2 pred_word:  ■\nreturn sent:  ÷\n",
      "pred_idx:  2 pred_word:  ■\nreturn sent:  ÷\npred_idx:  2 pred_word:  ■\nreturn sent:  ÷\npred_idx:  2 pred_word:  ■\nreturn sent:  ÷\npred_idx:  2 pred_word:  ■\nreturn sent:  ÷\npred_idx:  2 pred_word:  ■\nreturn sent:  ÷\npred_idx:  2 pred_word:  ■\nreturn sent:  ÷\n",
      "pred_idx:  2 pred_word:  ■\nreturn sent:  ÷\npred_idx:  2 pred_word:  ■\nreturn sent:  ÷\npred_idx:  2 pred_word:  ■\nreturn sent:  ÷\npred_idx:  2 pred_word:  ■\nreturn sent:  ÷\npred_idx: ",
      " 2 pred_word:  ■\nreturn sent:  ÷\npred_idx:  2 pred_word:  ■\nreturn sent:  ÷\npred_idx:  2 pred_word:  ■\nreturn sent:  ÷\npred_idx:  2 pred_word:  ■\nreturn sent:  ÷\npred_idx:  2 pred_word:  ■\nreturn sent:  ÷\n",
      "pred_idx:  2 pred_word:  ■\nreturn sent:  ÷\npred_idx:  2 pred_word:  ■\nreturn sent:  ÷\npred_idx:  2 pred_word:  ■\nreturn sent:  ÷\npred_idx:  2 pred_word:  ■\nreturn sent:  ÷\npred_idx:  2 pred_word:  ■\nreturn sent:  ÷\n",
      "pred_idx:  2 pred_word:  ■\nreturn sent:  ÷\npred_idx:  2 pred_word:  ■\nreturn sent:  ÷\npred_idx:  2 pred_word:  ■\nreturn sent:  ÷\npred_idx:  2 pred_word:  ■\nreturn sent:  ÷\npred_idx:  2 pred_word:  ■\nreturn sent:  ÷\npred_idx:  2 pred_word:  ■\nreturn sent:  ÷\n",
      "pred_idx:  2 pred_word:  ■\nreturn sent:  ÷\npred_idx:  2 pred_word:  ■\nreturn sent:  ÷\npred_idx:  2 pred_word:  ■\nreturn sent:  ÷\npred_idx:  2 pred_word:  ■\nreturn sent:  ÷\npred_idx:  2 pred_word:  ■\nreturn sent:  ÷\n",
      "pred_idx:  2 pred_word:  ■\nreturn sent:  ÷\npred_idx:  2 pred_word:  ■\nreturn sent:  ÷\npred_idx:  2 pred_word:  ■\nreturn sent:  ÷\npred_idx:  2 pred_word:  ■\nreturn sent:  ÷\npred_idx:  2 pred_word:  ■\nreturn sent:  ÷\n",
      "pred_idx:  2 pred_word:  ■\nreturn sent:  ÷\npred_idx:  2 pred_word:  ■\nreturn sent:  ÷\npred_idx:  3 pred_word:  to\npred_idx:  2 pred_word:  ■\nreturn sent:  ÷ to\npred_idx: ",
      " 2 pred_word:  ■\nreturn sent:  ÷\npred_idx:  2 pred_word:  ■\nreturn sent:  ÷\npred_idx:  2 pred_word:  ■\nreturn sent:  ÷\npred_idx:  2 pred_word:  ■\nreturn sent:  ÷\npred_idx:  2 pred_word:  ■\nreturn sent:  ÷\npred_idx:  2 pred_word:  ■\nreturn sent:  ÷\n",
      "pred_idx:  2 pred_word:  ■\nreturn sent:  ÷\npred_idx:  2 pred_word:  ■\nreturn sent:  ÷\npred_idx:  2 pred_word:  ■\nreturn sent:  ÷\npred_idx:  2 pred_word:  ■\nreturn sent:  ÷\npred_idx:  2 pred_word:  ■\nreturn sent:  ÷\n",
      "pred_idx:  2 pred_word:  ■\nreturn sent:  ÷\npred_idx:  2 pred_word:  ■\nreturn sent:  ÷\npred_idx:  2 pred_word:  ■\nreturn sent:  ÷\npred_idx:  3 pred_word:  to\npred_idx:  2 pred_word:  ■\nreturn sent:  ÷ to\n",
      "pred_idx:  2 pred_word:  ■\nreturn sent:  ÷\npred_idx:  2 pred_word:  ■\nreturn sent:  ÷\npred_idx:  2 pred_word:  ■\nreturn sent:  ÷\npred_idx:  2 pred_word:  ■\nreturn sent:  ÷\npred_idx: ",
      " 2 pred_word:  ■\nreturn sent:  ÷\npred_idx:  2 pred_word:  ■\nreturn sent:  ÷\npred_idx:  2 pred_word:  ■\nreturn sent:  ÷\npred_idx:  2 pred_word:  ■\nreturn sent:  ÷\npred_idx:  2 pred_word:  ■\nreturn sent:  ÷\n",
      "pred_idx:  2 pred_word:  ■\nreturn sent:  ÷\npred_idx:  2 pred_word:  ■\nreturn sent:  ÷\npred_idx:  2 pred_word:  ■\nreturn sent:  ÷\npred_idx:  2 pred_word:  ■\nreturn sent:  ÷\npred_idx:  2 pred_word:  ■\nreturn sent:  ÷\n",
      "pred_idx:  2 pred_word:  ■\nreturn sent:  ÷\npred_idx:  2 pred_word:  ■\nreturn sent:  ÷\npred_idx:  2 pred_word:  ■\nreturn sent:  ÷\npred_idx:  2 pred_word:  ■\nreturn sent:  ÷\npred_idx:  2 pred_word:  ■\nreturn sent:  ÷\npred_idx:  2 pred_word:  ■\nreturn sent:  ÷\n",
      "pred_idx:  2 pred_word:  ■\nreturn sent:  ÷\npred_idx:  2 pred_word:  ■\nreturn sent:  ÷\npred_idx:  2 pred_word:  ■\nreturn sent:  ÷\npred_idx:  2 pred_word:  ■\nreturn sent:  ÷\npred_idx:  2 pred_word:  ■\nreturn sent:  ÷\n",
      "pred_idx:  2 pred_word:  ■\nreturn sent:  ÷\npred_idx:  2 pred_word:  ■\nreturn sent:  ÷\npred_idx:  2 pred_word:  ■\nreturn sent:  ÷\npred_idx:  2 pred_word:  ■\nreturn sent:  ÷\npred_idx:  2 pred_word:  ■\nreturn sent:  ÷\npred_idx:  2 pred_word:  ■\nreturn sent:  ÷\n",
      "pred_idx:  2 pred_word:  ■\nreturn sent:  ÷\npred_idx:  2 pred_word:  ■\nreturn sent:  ÷\npred_idx:  2 pred_word:  ■\nreturn sent:  ÷\npred_idx:  2 pred_word:  ■\nreturn sent:  ÷\npred_idx:  2 pred_word:  ■\nreturn sent:  ÷\n",
      "pred_idx:  2 pred_word:  ■\nreturn sent:  ÷\npred_idx:  2 pred_word:  ■\nreturn sent:  ÷\npred_idx:  2 pred_word:  ■\nreturn sent:  ÷\npred_idx:  2 pred_word:  ■\nreturn sent:  ÷\npred_idx:  2 pred_word:  ■\nreturn sent:  ÷\npred_idx:  2 pred_word:  ■\nreturn sent:  ÷\n",
      "pred_idx:  2 pred_word:  ■\nreturn sent:  ÷\npred_idx:  2 pred_word:  ■\nreturn sent:  ÷\npred_idx:  2 pred_word:  ■\nreturn sent:  ÷\npred_idx:  2 pred_word:  ■\nreturn sent:  ÷\npred_idx:  2 pred_word:  ■\nreturn sent:  ÷\npred_idx: ",
      " 2 pred_word:  ■\nreturn sent:  ÷\npred_idx:  2 pred_word:  ■\nreturn sent:  ÷\npred_idx:  2 pred_word:  ■\nreturn sent:  ÷\npred_idx:  2 pred_word:  ■\nreturn sent:  ÷\npred_idx:  2 pred_word:  ■\nreturn sent:  ÷\npred_idx:  3 pred_word:  to\n",
      "pred_idx:  2 pred_word:  ■\nreturn sent:  ÷ to\npred_idx:  2 pred_word:  ■\nreturn sent:  ÷\npred_idx:  2 pred_word:  ■\nreturn sent:  ÷\npred_idx:  2 pred_word:  ■\nreturn sent:  ÷\npred_idx:  2 pred_word:  ■\nreturn sent:  ÷\n",
      "pred_idx:  2 pred_word:  ■\nreturn sent:  ÷\npred_idx:  2 pred_word:  ■\nreturn sent:  ÷\npred_idx:  2 pred_word:  ■\nreturn sent:  ÷\npred_idx:  2 pred_word:  ■\nreturn sent:  ÷\npred_idx:  2 pred_word:  ■\nreturn sent:  ÷\n",
      "pred_idx:  2 pred_word:  ■\nreturn sent:  ÷\npred_idx:  2 pred_word:  ■\nreturn sent:  ÷\npred_idx:  2 pred_word:  ■\nreturn sent:  ÷\npred_idx:  2 pred_word:  ■\nreturn sent:  ÷\npred_idx: ",
      " 2 pred_word:  ■\nreturn sent:  ÷\npred_idx:  3 pred_word:  to\npred_idx:  2 pred_word:  ■\nreturn sent:  ÷ to\npred_idx:  2 pred_word:  ■\nreturn sent:  ÷\npred_idx:  2 pred_word:  ■\nreturn sent:  ÷\n",
      "pred_idx:  3 pred_word:  to\npred_idx:  2 pred_word:  ■\nreturn sent:  ÷ to\n",
      "pred_idx:  2 pred_word:  ■\nreturn sent:  ÷\npred_idx:  2 pred_word:  ■\nreturn sent:  ÷\npred_idx:  2 pred_word:  ■\nreturn sent:  ÷\n",
      "pred_idx:  2 pred_word:  ■\nreturn sent:  ÷\npred_idx:  2 pred_word:  ■\nreturn sent:  ÷\n",
      "pred_idx:  2 pred_word:  ■\nreturn sent:  ÷\npred_idx:  2 pred_word:  ■\nreturn sent:  ÷\npred_idx:  2 pred_word:  ■\nreturn sent:  ÷\n",
      "pred_idx:  2 pred_word:  ■\nreturn sent:  ÷\npred_idx:  2 pred_word:  ■\nreturn sent:  ÷\npred_idx: ",
      " 2 pred_word:  ■\nreturn sent:  ÷\npred_idx:  2 pred_word:  ■\nreturn sent:  ÷\npred_idx:  2 pred_word:  ■\nreturn sent:  ÷\npred_idx:  2 pred_word:  ■\nreturn sent:  ÷\npred_idx: ",
      " 2 pred_word:  ■\nreturn sent:  ÷\npred_idx:  3 pred_word:  to\npred_idx:  2 pred_word:  ■\nreturn sent:  ÷ to\npred_idx:  2 pred_word:  ■\nreturn sent:  ÷\npred_idx:  2 pred_word:  ■\nreturn sent:  ÷\n",
      "pred_idx:  2 pred_word:  ■\nreturn sent:  ÷\npred_idx:  2 pred_word:  ■\nreturn sent:  ÷\npred_idx:  2 pred_word:  ■\nreturn sent:  ÷\npred_idx:  2 pred_word:  ■\nreturn sent:  ÷\npred_idx:  2 pred_word:  ■\nreturn sent:  ÷\npred_idx:  2 pred_word:  ■\nreturn sent:  ÷\n",
      "pred_idx:  2 pred_word:  ■\nreturn sent:  ÷\npred_idx:  2 pred_word:  ■\nreturn sent:  ÷\npred_idx:  2 pred_word:  ■\nreturn sent:  ÷\npred_idx:  2 pred_word:  ■\nreturn sent:  ÷\npred_idx: ",
      " 3 pred_word:  to\npred_idx:  2 pred_word:  ■\nreturn sent:  ÷ to\npred_idx:  2 pred_word:  ■\nreturn sent:  ÷\npred_idx:  2 pred_word:  ■\nreturn sent:  ÷\npred_idx:  2 pred_word:  ■\nreturn sent:  ÷\npred_idx:  2 pred_word:  ■\nreturn sent:  ÷\n",
      "pred_idx:  2 pred_word:  ■\nreturn sent:  ÷\npred_idx:  2 pred_word:  ■\nreturn sent:  ÷\npred_idx:  2 pred_word:  ■\nreturn sent:  ÷\npred_idx:  2 pred_word:  ■\nreturn sent:  ÷\npred_idx: ",
      " 2 pred_word:  ■\nreturn sent:  ÷\npred_idx:  2 pred_word:  ■\nreturn sent:  ÷\npred_idx:  2 pred_word:  ■\nreturn sent:  ÷\npred_idx:  2 pred_word:  ■\nreturn sent:  ÷\npred_idx:  2 pred_word:  ■\nreturn sent:  ÷\n",
      "pred_idx:  2 pred_word:  ■\nreturn sent:  ÷\npred_idx:  2 pred_word:  ■\nreturn sent:  ÷\npred_idx:  2 pred_word:  ■\nreturn sent:  ÷\npred_idx:  2 pred_word:  ■\nreturn sent:  ÷\npred_idx:  2",
      " pred_word:  ■\nreturn sent:  ÷\npred_idx:  2 pred_word:  ■\nreturn sent:  ÷\npred_idx:  2 pred_word:  ■\nreturn sent:  ÷\npred_idx:  2 pred_word:  ■\nreturn sent:  ÷\npred_idx:  2 pred_word:  ■\nreturn sent:  ÷\n",
      "pred_idx:  2 pred_word:  ■\nreturn sent:  ÷\npred_idx:  2 pred_word:  ■\nreturn sent:  ÷\npred_idx:  2 pred_word:  ■\nreturn sent:  ÷\npred_idx:  2 pred_word:  ■\nreturn sent:  ÷\npred_idx:  2 pred_word:  ■\nreturn sent:  ÷\npred_idx: ",
      " 2 pred_word:  ■\nreturn sent:  ÷\npred_idx:  2 pred_word:  ■\nreturn sent:  ÷\npred_idx:  2 pred_word:  ■\nreturn sent:  ÷\npred_idx:  2 pred_word:  ■\nreturn sent:  ÷\npred_idx:  2 pred_word:  ■\nreturn sent:  ÷\n",
      "pred_idx:  2 pred_word:  ■\nreturn sent:  ÷\npred_idx:  2 pred_word:  ■\nreturn sent:  ÷\npred_idx:  2 pred_word:  ■\nreturn sent:  ÷\npred_idx:  2 pred_word:  ■\nreturn sent:  ÷\npred_idx:  2 pred_word:  ■\nreturn sent:  ÷\npred_idx:  2 pred_word:  ■\nreturn sent:  ÷\n",
      "pred_idx:  2 pred_word:  ■\nreturn sent:  ÷\npred_idx:  2 pred_word:  ■\nreturn sent:  ÷\npred_idx:  2 pred_word:  ■\nreturn sent:  ÷\npred_idx:  2 pred_word:  ■\nreturn sent:  ÷\npred_idx:  3 pred_word:  to\n",
      "pred_idx:  2 pred_word:  ■\nreturn sent:  ÷ to\npred_idx:  2 pred_word:  ■\nreturn sent:  ÷\npred_idx:  2 pred_word:  ■\nreturn sent:  ÷\npred_idx:  2 pred_word:  ■\nreturn sent:  ÷\n",
      "pred_idx:  2 pred_word:  ■\nreturn sent:  ÷\npred_idx:  2 pred_word:  ■\nreturn sent:  ÷\npred_idx:  2 pred_word:  ■\nreturn sent:  ÷\npred_idx:  2 pred_word:  ■\nreturn sent:  ÷\npred_idx: ",
      " 2 pred_word:  ■\nreturn sent:  ÷\npred_idx:  2 pred_word:  ■\nreturn sent:  ÷\npred_idx:  2 pred_word:  ■\nreturn sent:  ÷\npred_idx:  2 pred_word:  ■\nreturn sent:  ÷\npred_idx: ",
      " 2 pred_word:  ■\nreturn sent:  ÷\npred_idx:  5 pred_word:  for\npred_idx:  2 pred_word:  ■\nreturn sent:  ÷ for\npred_idx:  2 pred_word:  ■\nreturn sent:  ÷\npred_idx:  2 pred_word:  ■\nreturn sent:  ÷\n",
      "pred_idx:  2 pred_word:  ■\nreturn sent:  ÷\npred_idx:  2 pred_word:  ■\nreturn sent:  ÷\npred_idx:  2 pred_word:  ■\nreturn sent:  ÷\npred_idx:  2 pred_word:  ■\nreturn sent:  ÷\npred_idx:  3 pred_word:  to\n",
      "pred_idx:  2 pred_word:  ■\nreturn sent:  ÷ to\npred_idx:  2 pred_word:  ■\nreturn sent:  ÷\npred_idx:  2 pred_word:  ■\nreturn sent:  ÷\npred_idx:  2 pred_word:  ■\nreturn sent:  ÷\npred_idx:  2 pred_word:  ■\nreturn sent:  ÷\npred_idx:  2",
      " pred_word:  ■\nreturn sent:  ÷\npred_idx:  2 pred_word:  ■\nreturn sent:  ÷\npred_idx:  2 pred_word:  ■\nreturn sent:  ÷\npred_idx:  2 pred_word:  ■\nreturn sent:  ÷\npred_idx: ",
      " 2 pred_word:  ■\nreturn sent:  ÷\npred_idx:  2 pred_word:  ■\nreturn sent:  ÷\npred_idx:  2 pred_word:  ■\nreturn sent:  ÷\npred_idx:  2 pred_word:  ■\nreturn sent:  ÷\npred_idx:  2 pred_word:  ■\nreturn sent:  ÷\n",
      "pred_idx:  2 pred_word:  ■\nreturn sent:  ÷\npred_idx:  2 pred_word:  ■\nreturn sent:  ÷\npred_idx:  2 pred_word:  ■\nreturn sent:  ÷\npred_idx:  2 pred_word:  ■\nreturn sent:  ÷\npred_idx:  2 pred_word:  ■\nreturn sent:  ÷\npred_idx: ",
      " 2 pred_word:  ■\nreturn sent:  ÷\npred_idx:  2 pred_word:  ■\nreturn sent:  ÷\npred_idx:  2 pred_word:  ■\nreturn sent:  ÷\npred_idx:  2 pred_word:  ■\nreturn sent:  ÷\npred_idx:  2 pred_word:  ■\nreturn sent:  ÷\npred_idx:  2 pred_word:  ■\nreturn sent:  ÷\n",
      "pred_idx:  3 pred_word:  to\npred_idx:  2 pred_word:  ■\nreturn sent:  ÷ to\npred_idx:  2 pred_word:  ■\nreturn sent:  ÷\npred_idx:  2 pred_word:  ■\nreturn sent:  ÷\npred_idx: ",
      " 2 pred_word:  ■\nreturn sent:  ÷\npred_idx:  2 pred_word:  ■\nreturn sent:  ÷\npred_idx:  2 pred_word:  ■\nreturn sent:  ÷\npred_idx:  2 pred_word:  ■\nreturn sent:  ÷\npred_idx:  2 pred_word:  ■\nreturn sent:  ÷\npred_idx:  2 ",
      "pred_word:  ■\nreturn sent:  ÷\npred_idx:  2 pred_word:  ■\nreturn sent:  ÷\npred_idx:  2 pred_word:  ■\nreturn sent:  ÷\npred_idx:  2 pred_word:  ■\nreturn sent:  ÷\npred_idx:  2 pred_word:  ■\nreturn sent:  ÷\npred_idx:  2 pred_word:  ■\nreturn sent:  ÷\n",
      "pred_idx:  2 pred_word:  ■\nreturn sent:  ÷\npred_idx:  2 pred_word:  ■\nreturn sent:  ÷\npred_idx:  2 pred_word:  ■\nreturn sent:  ÷\npred_idx:  2 pred_word:  ■\nreturn sent:  ÷\npred_idx:  2 pred_word:  ■\nreturn sent:  ÷\npred_idx:  2 ",
      "pred_word:  ■\nreturn sent:  ÷\npred_idx:  2 pred_word:  ■\nreturn sent:  ÷\npred_idx:  2 pred_word:  ■\nreturn sent:  ÷\npred_idx:  2 pred_word:  ■\nreturn sent:  ÷\npred_idx:  2 pred_word:  ■\nreturn sent:  ÷\n",
      "pred_idx:  2 pred_word:  ■\nreturn sent:  ÷\npred_idx:  2 pred_word:  ■\nreturn sent:  ÷\npred_idx:  2 pred_word:  ■\nreturn sent:  ÷\npred_idx:  2 pred_word:  ■\nreturn sent:  ÷\npred_idx: ",
      " 2 pred_word:  ■\nreturn sent:  ÷\npred_idx:  2 pred_word:  ■\nreturn sent:  ÷\npred_idx:  2 pred_word:  ■\nreturn sent:  ÷\npred_idx:  2 pred_word:  ■\nreturn sent:  ÷\n",
      "pred_idx:  2 pred_word:  ■\nreturn sent:  ÷\npred_idx:  2 pred_word:  ■\nreturn sent:  ÷\npred_idx:  2 pred_word:  ■\nreturn sent:  ÷\npred_idx:  2 pred_word:  ■\nreturn sent:  ÷\npred_idx:  2 pred_word:  ■\nreturn sent:  ÷\n",
      "pred_idx:  2 pred_word:  ■\nreturn sent:  ÷\npred_idx:  2 pred_word:  ■\nreturn sent:  ÷\npred_idx:  2 pred_word:  ■\nreturn sent:  ÷\npred_idx:  2 pred_word:  ■\nreturn sent:  ÷\npred_idx:  2 pred_word:  ■\nreturn sent:  ÷\n",
      "pred_idx:  2 pred_word:  ■\nreturn sent:  ÷\npred_idx:  2 pred_word:  ■\nreturn sent:  ÷\npred_idx:  2 pred_word:  ■\nreturn sent:  ÷\npred_idx:  2 pred_word:  ■\nreturn sent:  ÷\npred_idx:  2 pred_word:  ■\nreturn sent:  ÷\npred_idx: ",
      " 2 pred_word:  ■\nreturn sent:  ÷\npred_idx:  2 pred_word:  ■\nreturn sent:  ÷\npred_idx:  2 pred_word:  ■\nreturn sent:  ÷\npred_idx:  2 pred_word:  ■\nreturn sent:  ÷\npred_idx:  2 pred_word:  ■\nreturn sent:  ÷\npred_idx:  2 pred_word:  ■\nreturn sent:  ÷\n",
      "pred_idx:  2 pred_word:  ■\nreturn sent:  ÷\npred_idx:  2 pred_word:  ■\nreturn sent:  ÷\npred_idx:  2 pred_word:  ■\nreturn sent:  ÷\npred_idx:  2 pred_word:  ■\nreturn sent:  ÷\npred_idx:  2 pred_word:  ■\nreturn sent:  ÷\npred_idx:  2 pred_word:  ■\nreturn sent:  ÷\n",
      "pred_idx:  2 pred_word:  ■\nreturn sent:  ÷\npred_idx:  2 pred_word:  ■\nreturn sent:  ÷\npred_idx: ",
      " 2 pred_word:  ■\nreturn sent:  ÷\npred_idx:  2 pred_word:  ■\nreturn sent:  ÷\npred_idx:  2 pred_word:  ■\nreturn sent:  ÷\n",
      "pred_idx:  2 pred_word:  ■\nreturn sent:  ÷\npred_idx:  2 pred_word:  ■\nreturn sent:  ÷\npred_idx:  2 pred_word:  ■\nreturn sent:  ÷\n",
      "pred_idx:  3 pred_word:  to\npred_idx:  2 pred_word:  ■\nreturn sent:  ÷ to\npred_idx: ",
      " 2 pred_word:  ■\nreturn sent:  ÷\npred_idx:  2 pred_word:  ■\nreturn sent:  ÷\n",
      "pred_idx:  2 pred_word:  ■\nreturn sent:  ÷\npred_idx:  2 pred_word:  ■\nreturn sent:  ÷\npred_idx:  2 pred_word:  ■\nreturn sent:  ÷\n",
      "pred_idx:  2 pred_word:  ■\nreturn sent:  ÷\npred_idx:  2 pred_word:  ■\nreturn sent:  ÷\npred_idx:  2 pred_word:  ■\nreturn sent:  ÷\n",
      "pred_idx:  2 pred_word:  ■\nreturn sent:  ÷\npred_idx:  2 pred_word:  ■\nreturn sent:  ÷\npred_idx:  2 pred_word:  ■\nreturn sent:  ÷\npred_idx: ",
      " 2 pred_word:  ■\nreturn sent:  ÷\npred_idx:  2 pred_word:  ■\nreturn sent:  ÷\npred_idx:  2 pred_word:  ■\nreturn sent:  ÷\n",
      "pred_idx:  2 pred_word:  ■\nreturn sent:  ÷\npred_idx:  2 pred_word:  ■\nreturn sent:  ÷\npred_idx:  2 pred_word:  ■\nreturn sent:  ÷\npred_idx:  2 pred_word:  ■\nreturn sent:  ÷\n",
      "pred_idx:  2 pred_word:  ■\nreturn sent:  ÷\npred_idx:  2 pred_word:  ■\nreturn sent:  ÷\npred_idx:  2 pred_word:  ■\nreturn sent:  ÷\n",
      "pred_idx:  2 pred_word:  ■\nreturn sent:  ÷\npred_idx:  2 pred_word:  ■\nreturn sent:  ÷\npred_idx:  2 pred_word:  ■\nreturn sent:  ÷\npred_idx:  2 pred_word:  ■\nreturn sent:  ÷\npred_idx: ",
      " 2 pred_word:  ■\nreturn sent:  ÷\npred_idx:  2 pred_word:  ■\nreturn sent:  ÷\npred_idx:  2 pred_word:  ■\nreturn sent:  ÷\npred_idx:  2 pred_word:  ■\nreturn sent:  ÷\n",
      "pred_idx:  2 pred_word:  ■\nreturn sent:  ÷\npred_idx:  2 pred_word:  ■\nreturn sent:  ÷\npred_idx:  2 pred_word:  ■\nreturn sent:  ÷\n",
      "pred_idx:  2 pred_word:  ■\nreturn sent:  ÷\npred_idx:  2 pred_word:  ■\nreturn sent:  ÷\npred_idx:  2 pred_word:  ■\nreturn sent:  ÷\n",
      "pred_idx:  2 pred_word:  ■\nreturn sent:  ÷\npred_idx:  2 pred_word:  ■\nreturn sent:  ÷\n",
      "pred_idx:  2 pred_word:  ■\nreturn sent:  ÷\npred_idx:  2 pred_word:  ■\nreturn sent:  ÷\n",
      "pred_idx:  2 pred_word:  ■\nreturn sent:  ÷\npred_idx:  2 pred_word:  ■\nreturn sent:  ÷\n",
      "pred_idx:  2 pred_word:  ■\nreturn sent:  ÷\npred_idx:  2 pred_word:  ■\nreturn sent:  ÷\n",
      "pred_idx:  2 pred_word:  ■\nreturn sent:  ÷\npred_idx:  2 pred_word:  ■\nreturn sent:  ÷\npred_idx:  2 pred_word:  ■\nreturn sent:  ÷\n",
      "pred_idx:  2 pred_word:  ■\nreturn sent:  ÷\npred_idx:  2 pred_word:  ■\nreturn sent:  ÷\npred_idx:  2 pred_word:  ■\nreturn sent:  ÷\n",
      "pred_idx:  2 pred_word:  ■\nreturn sent:  ÷\npred_idx:  2 pred_word:  ■\nreturn sent:  ÷\npred_idx:  2 pred_word:  ■\nreturn sent:  ",
      "÷\npred_idx:  2 pred_word:  ■\nreturn sent:  ÷\npred_idx:  2 pred_word:  ■\nreturn sent:  ÷\npred_idx:  2 pred_word:  ■\nreturn sent:  ÷\npred_idx:  2 pred_word:  ■\nreturn sent:  ÷\n",
      "pred_idx:  2 pred_word:  ■\nreturn sent:  ÷\npred_idx:  2 pred_word:  ■\nreturn sent:  ÷\npred_idx:  2 pred_word:  ■\nreturn sent:  ÷\npred_idx:  2 pred_word:  ■\nreturn sent:  ÷\npred_idx:  2 pred_word:  ■\nreturn sent:  ÷\npred_idx: ",
      " 2 pred_word:  ■\nreturn sent:  ÷\npred_idx:  2 pred_word:  ■\nreturn sent:  ÷\npred_idx:  2 pred_word:  ■\nreturn sent:  ÷\npred_idx:  2 pred_word:  ■\nreturn sent:  ÷\npred_idx: ",
      " 2 pred_word:  ■\nreturn sent:  ÷\npred_idx:  2 pred_word:  ■\nreturn sent:  ÷\npred_idx:  2 pred_word:  ■\nreturn sent:  ÷\npred_idx:  2 pred_word:  ■\nreturn sent:  ÷\npred_idx:  2 pred_word:  ■\nreturn sent:  ÷\npred_idx:  2 pred_word:  ■",
      "\nreturn sent:  ÷\npred_idx:  2 pred_word:  ■\nreturn sent:  ÷\npred_idx:  2 pred_word:  ■\nreturn sent:  ÷\npred_idx:  2 pred_word:  ■\nreturn sent:  ÷\npred_idx: ",
      " 2 pred_word:  ■\nreturn sent:  ÷\npred_idx:  3 pred_word:  to\npred_idx:  2 pred_word:  ■\nreturn sent:  ÷ to\npred_idx:  2 pred_word:  ■\nreturn sent:  ÷\npred_idx:  2 pred_word:  ■\nreturn sent:  ÷\n",
      "pred_idx:  2 pred_word:  ■\nreturn sent:  ÷\npred_idx:  2 pred_word:  ■\nreturn sent:  ÷\npred_idx:  2 pred_word:  ■\nreturn sent:  ÷\npred_idx:  2 pred_word:  ■\nreturn sent:  ÷\npred_idx: ",
      " 2 pred_word:  ■\nreturn sent:  ÷\npred_idx:  2 pred_word:  ■\nreturn sent:  ÷\npred_idx:  2 pred_word:  ■\nreturn sent:  ÷\npred_idx:  2 pred_word:  ■\nreturn sent:  ÷\npred_idx:  2 pred_word:  ■\nreturn sent:  ÷\npred_idx:  2 pred_word:  ■\nreturn sent:  ÷\n",
      "pred_idx:  2 pred_word:  ■\nreturn sent:  ÷\npred_idx:  2 pred_word:  ■\nreturn sent:  ÷\npred_idx:  2 pred_word:  ■\nreturn sent:  ÷\npred_idx:  2 pred_word:  ■\nreturn sent:  ÷\npred_idx:  2 pred_word:  ■\nreturn sent:  ÷\n",
      "pred_idx:  2 pred_word:  ■\nreturn sent:  ÷\npred_idx:  2 pred_word:  ■\nreturn sent:  ÷\npred_idx:  2 pred_word:  ■\nreturn sent:  ÷\npred_idx:  2 pred_word:  ■\nreturn sent:  ÷\npred_idx:  2 pred_word:  ■\nreturn sent:  ÷\npred_idx:  2 pred_word:  ■\nreturn sent:  ÷\n",
      "pred_idx:  2 pred_word:  ■\nreturn sent:  ÷\npred_idx:  2 pred_word:  ■\nreturn sent:  ÷\npred_idx:  2 pred_word:  ■\nreturn sent:  ÷\npred_idx:  2 pred_word:  ■\nreturn sent:  ÷\npred_idx: ",
      " 2 pred_word:  ■\nreturn sent:  ÷\npred_idx:  2 pred_word:  ■\nreturn sent:  ÷\npred_idx:  2 pred_word:  ■\nreturn sent:  ÷\npred_idx:  2 pred_word:  ■\nreturn sent:  ÷\npred_idx:  2 pred_word:  ■\nreturn sent:  ÷\npred_idx: ",
      " 2 pred_word:  ■\nreturn sent:  ÷\npred_idx:  2 pred_word:  ■\nreturn sent:  ÷\npred_idx:  2 pred_word:  ■\nreturn sent:  ÷\npred_idx:  2 pred_word:  ■\nreturn sent:  ÷\n",
      "pred_idx:  2 pred_word:  ■\nreturn sent:  ÷\npred_idx:  2 pred_word:  ■\nreturn sent:  ÷\npred_idx:  2 pred_word:  ■\nreturn sent:  ÷\npred_idx:  2 pred_word:  ■\nreturn sent:  ÷\npred_idx:  2 pred_word:  ■\nreturn sent:  ÷\n"
     ],
     "output_type": "stream"
    }
   ],
   "source": [
    "text = \"\"\n",
    "while len(text) < 10:\n",
    "    text = generate_text(parameters.start, model, idx_to_words, tokenizer, parameters.max_len, temp=0.25)\n",
    "    text = text[2:] # the first two elements are '÷ '\n",
    "text\n"
   ],
   "metadata": {
    "collapsed": false,
    "pycharm": {
     "name": "#%%\n",
     "is_executing": true
    }
   }
  }
 ],
 "metadata": {
  "kernelspec": {
   "display_name": "Python 3",
   "language": "python",
   "name": "python3"
  },
  "language_info": {
   "codemirror_mode": {
    "name": "ipython",
    "version": 2
   },
   "file_extension": ".py",
   "mimetype": "text/x-python",
   "name": "python",
   "nbconvert_exporter": "python",
   "pygments_lexer": "ipython2",
   "version": "2.7.6"
  },
  "pycharm": {
   "stem_cell": {
    "cell_type": "raw",
    "source": [],
    "metadata": {
     "collapsed": false
    }
   }
  }
 },
 "nbformat": 4,
 "nbformat_minor": 0
}